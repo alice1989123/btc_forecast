{
 "cells": [
  {
   "cell_type": "code",
   "execution_count": 1,
   "metadata": {},
   "outputs": [],
   "source": [
    "\n",
    "import pandas as pd\n",
    "import pandas as pd\n",
    "import datetime\n",
    "from  window_generator  import WindowGenerator\n",
    "import pandas as pd\n",
    "import tensorflow as tf\n",
    "from binance_data import get_binance_data\n",
    "from data_processing import train_test   , compile_and_fit , normalize , data_parser  , data_for_prediction_parser\n",
    "import pandas as pd\n",
    "from transformer import create_transformer "
   ]
  },
  {
   "cell_type": "code",
   "execution_count": 2,
   "metadata": {},
   "outputs": [],
   "source": [
    "### Configuration of the prediction\n",
    "label_width = 6\n",
    "imput_width=label_width*7\n",
    "#variables_used = ['open', 'high', 'low', 'close', 'volume', 'quote_asset_volume','num_trades','taker_base_vol','taker_quote_vol' ]\n",
    "#variables_used = df.columns\n",
    "variables_used = ['close']\n",
    "input_shape = (imput_width, len(variables_used))\n",
    "\n"
   ]
  },
  {
   "cell_type": "code",
   "execution_count": 99,
   "metadata": {},
   "outputs": [],
   "source": [
    "\n",
    "start_time = \"1 Jun 2018\"\n",
    "# Get current date and time\n",
    "now = datetime.datetime.now()\n",
    "# Format date and time as a string\n",
    "end_time = now.strftime(\"%Y-%m-%d %H:%M:%S\")\n",
    "\n",
    "data = get_binance_data ('BTCUSDT',  start_time, end_time )\n",
    "training_df = data_parser(data)\n",
    "training_df_norm = normalize(training_df,imput_width=imput_width ,window=30)\n"
   ]
  },
  {
   "cell_type": "code",
   "execution_count": 100,
   "metadata": {},
   "outputs": [
    {
     "data": {
      "text/html": [
       "<div>\n",
       "<style scoped>\n",
       "    .dataframe tbody tr th:only-of-type {\n",
       "        vertical-align: middle;\n",
       "    }\n",
       "\n",
       "    .dataframe tbody tr th {\n",
       "        vertical-align: top;\n",
       "    }\n",
       "\n",
       "    .dataframe thead th {\n",
       "        text-align: right;\n",
       "    }\n",
       "</style>\n",
       "<table border=\"1\" class=\"dataframe\">\n",
       "  <thead>\n",
       "    <tr style=\"text-align: right;\">\n",
       "      <th></th>\n",
       "      <th>open</th>\n",
       "      <th>high</th>\n",
       "      <th>low</th>\n",
       "      <th>close</th>\n",
       "      <th>volume</th>\n",
       "      <th>close_time</th>\n",
       "      <th>quote_asset_volume</th>\n",
       "      <th>num_trades</th>\n",
       "      <th>taker_base_vol</th>\n",
       "      <th>taker_quote_vol</th>\n",
       "    </tr>\n",
       "    <tr>\n",
       "      <th>open_time</th>\n",
       "      <th></th>\n",
       "      <th></th>\n",
       "      <th></th>\n",
       "      <th></th>\n",
       "      <th></th>\n",
       "      <th></th>\n",
       "      <th></th>\n",
       "      <th></th>\n",
       "      <th></th>\n",
       "      <th></th>\n",
       "    </tr>\n",
       "  </thead>\n",
       "  <tbody>\n",
       "    <tr>\n",
       "      <th>2018-06-03 23:00:00</th>\n",
       "      <td>4.590350</td>\n",
       "      <td>4.133718</td>\n",
       "      <td>4.586088</td>\n",
       "      <td>4.499111</td>\n",
       "      <td>-0.489525</td>\n",
       "      <td>6.417969</td>\n",
       "      <td>-0.407600</td>\n",
       "      <td>-0.831107</td>\n",
       "      <td>-0.375739</td>\n",
       "      <td>-0.280581</td>\n",
       "    </tr>\n",
       "    <tr>\n",
       "      <th>2018-06-04 00:00:00</th>\n",
       "      <td>4.513836</td>\n",
       "      <td>4.068668</td>\n",
       "      <td>4.830715</td>\n",
       "      <td>3.833773</td>\n",
       "      <td>1.466096</td>\n",
       "      <td>6.417969</td>\n",
       "      <td>1.608293</td>\n",
       "      <td>0.247215</td>\n",
       "      <td>2.096819</td>\n",
       "      <td>2.255699</td>\n",
       "    </tr>\n",
       "    <tr>\n",
       "      <th>2018-06-04 01:00:00</th>\n",
       "      <td>3.820303</td>\n",
       "      <td>2.956720</td>\n",
       "      <td>3.426644</td>\n",
       "      <td>3.230899</td>\n",
       "      <td>-0.406446</td>\n",
       "      <td>6.417969</td>\n",
       "      <td>-0.329605</td>\n",
       "      <td>2.025150</td>\n",
       "      <td>-0.766987</td>\n",
       "      <td>-0.692707</td>\n",
       "    </tr>\n",
       "    <tr>\n",
       "      <th>2018-06-04 02:00:00</th>\n",
       "      <td>3.234165</td>\n",
       "      <td>2.390919</td>\n",
       "      <td>2.984263</td>\n",
       "      <td>2.428799</td>\n",
       "      <td>-0.611265</td>\n",
       "      <td>6.417969</td>\n",
       "      <td>-0.545831</td>\n",
       "      <td>2.625042</td>\n",
       "      <td>-0.754362</td>\n",
       "      <td>-0.687235</td>\n",
       "    </tr>\n",
       "    <tr>\n",
       "      <th>2018-06-04 03:00:00</th>\n",
       "      <td>2.485365</td>\n",
       "      <td>2.124784</td>\n",
       "      <td>2.723712</td>\n",
       "      <td>2.383100</td>\n",
       "      <td>-1.073583</td>\n",
       "      <td>6.417969</td>\n",
       "      <td>-1.016285</td>\n",
       "      <td>-1.427570</td>\n",
       "      <td>-0.911236</td>\n",
       "      <td>-0.846167</td>\n",
       "    </tr>\n",
       "    <tr>\n",
       "      <th>...</th>\n",
       "      <td>...</td>\n",
       "      <td>...</td>\n",
       "      <td>...</td>\n",
       "      <td>...</td>\n",
       "      <td>...</td>\n",
       "      <td>...</td>\n",
       "      <td>...</td>\n",
       "      <td>...</td>\n",
       "      <td>...</td>\n",
       "      <td>...</td>\n",
       "    </tr>\n",
       "    <tr>\n",
       "      <th>2023-04-08 19:00:00</th>\n",
       "      <td>-1.299456</td>\n",
       "      <td>-1.596587</td>\n",
       "      <td>-0.813647</td>\n",
       "      <td>-1.128966</td>\n",
       "      <td>-0.820199</td>\n",
       "      <td>6.417969</td>\n",
       "      <td>-0.827696</td>\n",
       "      <td>-0.428983</td>\n",
       "      <td>-0.740131</td>\n",
       "      <td>-0.746963</td>\n",
       "    </tr>\n",
       "    <tr>\n",
       "      <th>2023-04-08 20:00:00</th>\n",
       "      <td>-1.128935</td>\n",
       "      <td>-1.647245</td>\n",
       "      <td>-0.433979</td>\n",
       "      <td>-1.265612</td>\n",
       "      <td>-1.116076</td>\n",
       "      <td>6.417969</td>\n",
       "      <td>-1.122578</td>\n",
       "      <td>-0.681390</td>\n",
       "      <td>-1.139548</td>\n",
       "      <td>-1.145107</td>\n",
       "    </tr>\n",
       "    <tr>\n",
       "      <th>2023-04-08 21:00:00</th>\n",
       "      <td>-1.265459</td>\n",
       "      <td>-1.918588</td>\n",
       "      <td>-0.520767</td>\n",
       "      <td>-1.066610</td>\n",
       "      <td>-1.281248</td>\n",
       "      <td>6.417969</td>\n",
       "      <td>-1.287740</td>\n",
       "      <td>-0.637457</td>\n",
       "      <td>-1.238344</td>\n",
       "      <td>-1.243639</td>\n",
       "    </tr>\n",
       "    <tr>\n",
       "      <th>2023-04-08 22:00:00</th>\n",
       "      <td>-1.066579</td>\n",
       "      <td>-1.770661</td>\n",
       "      <td>-0.668281</td>\n",
       "      <td>-0.975002</td>\n",
       "      <td>-1.035960</td>\n",
       "      <td>6.417969</td>\n",
       "      <td>-1.041717</td>\n",
       "      <td>-0.315386</td>\n",
       "      <td>-0.987285</td>\n",
       "      <td>-0.992103</td>\n",
       "    </tr>\n",
       "    <tr>\n",
       "      <th>2023-04-08 23:00:00</th>\n",
       "      <td>-0.974969</td>\n",
       "      <td>-1.236556</td>\n",
       "      <td>-0.106378</td>\n",
       "      <td>-0.963136</td>\n",
       "      <td>-0.998192</td>\n",
       "      <td>6.417969</td>\n",
       "      <td>-1.002435</td>\n",
       "      <td>-0.660611</td>\n",
       "      <td>-0.969419</td>\n",
       "      <td>-0.972779</td>\n",
       "    </tr>\n",
       "  </tbody>\n",
       "</table>\n",
       "<p>42393 rows × 10 columns</p>\n",
       "</div>"
      ],
      "text/plain": [
       "                         open      high       low     close    volume  \\\n",
       "open_time                                                               \n",
       "2018-06-03 23:00:00  4.590350  4.133718  4.586088  4.499111 -0.489525   \n",
       "2018-06-04 00:00:00  4.513836  4.068668  4.830715  3.833773  1.466096   \n",
       "2018-06-04 01:00:00  3.820303  2.956720  3.426644  3.230899 -0.406446   \n",
       "2018-06-04 02:00:00  3.234165  2.390919  2.984263  2.428799 -0.611265   \n",
       "2018-06-04 03:00:00  2.485365  2.124784  2.723712  2.383100 -1.073583   \n",
       "...                       ...       ...       ...       ...       ...   \n",
       "2023-04-08 19:00:00 -1.299456 -1.596587 -0.813647 -1.128966 -0.820199   \n",
       "2023-04-08 20:00:00 -1.128935 -1.647245 -0.433979 -1.265612 -1.116076   \n",
       "2023-04-08 21:00:00 -1.265459 -1.918588 -0.520767 -1.066610 -1.281248   \n",
       "2023-04-08 22:00:00 -1.066579 -1.770661 -0.668281 -0.975002 -1.035960   \n",
       "2023-04-08 23:00:00 -0.974969 -1.236556 -0.106378 -0.963136 -0.998192   \n",
       "\n",
       "                     close_time  quote_asset_volume  num_trades  \\\n",
       "open_time                                                         \n",
       "2018-06-03 23:00:00    6.417969           -0.407600   -0.831107   \n",
       "2018-06-04 00:00:00    6.417969            1.608293    0.247215   \n",
       "2018-06-04 01:00:00    6.417969           -0.329605    2.025150   \n",
       "2018-06-04 02:00:00    6.417969           -0.545831    2.625042   \n",
       "2018-06-04 03:00:00    6.417969           -1.016285   -1.427570   \n",
       "...                         ...                 ...         ...   \n",
       "2023-04-08 19:00:00    6.417969           -0.827696   -0.428983   \n",
       "2023-04-08 20:00:00    6.417969           -1.122578   -0.681390   \n",
       "2023-04-08 21:00:00    6.417969           -1.287740   -0.637457   \n",
       "2023-04-08 22:00:00    6.417969           -1.041717   -0.315386   \n",
       "2023-04-08 23:00:00    6.417969           -1.002435   -0.660611   \n",
       "\n",
       "                     taker_base_vol  taker_quote_vol  \n",
       "open_time                                             \n",
       "2018-06-03 23:00:00       -0.375739        -0.280581  \n",
       "2018-06-04 00:00:00        2.096819         2.255699  \n",
       "2018-06-04 01:00:00       -0.766987        -0.692707  \n",
       "2018-06-04 02:00:00       -0.754362        -0.687235  \n",
       "2018-06-04 03:00:00       -0.911236        -0.846167  \n",
       "...                             ...              ...  \n",
       "2023-04-08 19:00:00       -0.740131        -0.746963  \n",
       "2023-04-08 20:00:00       -1.139548        -1.145107  \n",
       "2023-04-08 21:00:00       -1.238344        -1.243639  \n",
       "2023-04-08 22:00:00       -0.987285        -0.992103  \n",
       "2023-04-08 23:00:00       -0.969419        -0.972779  \n",
       "\n",
       "[42393 rows x 10 columns]"
      ]
     },
     "execution_count": 100,
     "metadata": {},
     "output_type": "execute_result"
    }
   ],
   "source": [
    "training_df_norm"
   ]
  },
  {
   "cell_type": "code",
   "execution_count": 101,
   "metadata": {},
   "outputs": [
    {
     "name": "stderr",
     "output_type": "stream",
     "text": [
      "2023-04-08 23:39:38.438586: I tensorflow/core/common_runtime/executor.cc:1197] [/device:CPU:0] (DEBUG INFO) Executor start aborting (this does not indicate an error and you can ignore this message): INVALID_ARGUMENT: You must feed a value for placeholder tensor 'gradients/split_2_grad/concat/split_2/split_dim' with dtype int32\n",
      "\t [[{{node gradients/split_2_grad/concat/split_2/split_dim}}]]\n",
      "2023-04-08 23:39:38.439660: I tensorflow/core/common_runtime/executor.cc:1197] [/device:CPU:0] (DEBUG INFO) Executor start aborting (this does not indicate an error and you can ignore this message): INVALID_ARGUMENT: You must feed a value for placeholder tensor 'gradients/split_grad/concat/split/split_dim' with dtype int32\n",
      "\t [[{{node gradients/split_grad/concat/split/split_dim}}]]\n",
      "2023-04-08 23:39:38.440603: I tensorflow/core/common_runtime/executor.cc:1197] [/device:CPU:0] (DEBUG INFO) Executor start aborting (this does not indicate an error and you can ignore this message): INVALID_ARGUMENT: You must feed a value for placeholder tensor 'gradients/split_1_grad/concat/split_1/split_dim' with dtype int32\n",
      "\t [[{{node gradients/split_1_grad/concat/split_1/split_dim}}]]\n",
      "2023-04-08 23:39:38.591303: I tensorflow/core/common_runtime/executor.cc:1197] [/device:CPU:0] (DEBUG INFO) Executor start aborting (this does not indicate an error and you can ignore this message): INVALID_ARGUMENT: You must feed a value for placeholder tensor 'gradients/split_2_grad/concat/split_2/split_dim' with dtype int32\n",
      "\t [[{{node gradients/split_2_grad/concat/split_2/split_dim}}]]\n",
      "2023-04-08 23:39:38.592407: I tensorflow/core/common_runtime/executor.cc:1197] [/device:CPU:0] (DEBUG INFO) Executor start aborting (this does not indicate an error and you can ignore this message): INVALID_ARGUMENT: You must feed a value for placeholder tensor 'gradients/split_grad/concat/split/split_dim' with dtype int32\n",
      "\t [[{{node gradients/split_grad/concat/split/split_dim}}]]\n",
      "2023-04-08 23:39:38.593243: I tensorflow/core/common_runtime/executor.cc:1197] [/device:CPU:0] (DEBUG INFO) Executor start aborting (this does not indicate an error and you can ignore this message): INVALID_ARGUMENT: You must feed a value for placeholder tensor 'gradients/split_1_grad/concat/split_1/split_dim' with dtype int32\n",
      "\t [[{{node gradients/split_1_grad/concat/split_1/split_dim}}]]\n"
     ]
    },
    {
     "data": {
      "image/png": "[encoded data removed]",
      "text/plain": [
       "<Figure size 1200x600 with 1 Axes>"
      ]
     },
     "metadata": {},
     "output_type": "display_data"
    }
   ],
   "source": [
    "train_df, val_df, test_df = train_test(training_df_norm[variables_used])\n",
    "\n",
    "wide_window = WindowGenerator(\n",
    "        input_width=imput_width, label_width=label_width, shift=0,\n",
    "        label_columns=[\"close\"] , train_df=train_df, val_df=val_df, test_df=test_df )\n",
    "\n",
    "Dense = tf.keras.Sequential([\n",
    "    tf.keras.layers.Dense(64, input_shape=input_shape),\n",
    "    tf.keras.layers.Flatten(),\n",
    "\n",
    "    tf.keras.layers.Dense(label_width)\n",
    "] , name='Dense')\n",
    "\n",
    "LSTM =  tf.keras.Sequential([\n",
    "    tf.keras.layers.LSTM(64, input_shape=input_shape ),\n",
    "\n",
    "    tf.keras.layers.Dense(label_width)\n",
    "] , name='LSTM')\n",
    "\n",
    "LSTM2 =  tf.keras.Sequential([\n",
    "    tf.keras.layers.LSTM(128, input_shape=input_shape ),\n",
    "    tf.keras.layers.BatchNormalization(),\n",
    "    tf.keras.layers.Dropout(0.2),\n",
    "    tf.keras.layers.Dense(64, activation='relu'),\n",
    "    tf.keras.layers.Dropout(0.2),\n",
    "    tf.keras.layers.Dense(label_width)\n",
    "], name='LSTM2')\n",
    "\n",
    "Conv1D = tf.keras.Sequential([\n",
    "    tf.keras.layers.Conv1D(filters=64, kernel_size=3, activation='relu', input_shape=input_shape),\n",
    "    tf.keras.layers.BatchNormalization(),\n",
    "    tf.keras.layers.MaxPooling1D(pool_size=2),\n",
    "    tf.keras.layers.Conv1D(filters=128, kernel_size=3, activation='relu'),\n",
    "    tf.keras.layers.BatchNormalization(),\n",
    "    tf.keras.layers.MaxPooling1D(pool_size=2),\n",
    "    tf.keras.layers.Conv1D(filters=256, kernel_size=3, activation='relu'),\n",
    "    tf.keras.layers.BatchNormalization(),\n",
    "    tf.keras.layers.MaxPooling1D(pool_size=2),\n",
    "    tf.keras.layers.Flatten(),\n",
    "    tf.keras.layers.Dense(64, activation='relu'),\n",
    "    tf.keras.layers.Dense(label_width)\n",
    "] , name='Conv1D')\n",
    "\n",
    "Transformer_model = create_transformer(input_shape, d_model=64,  dff=128)"
   ]
  },
  {
   "cell_type": "code",
   "execution_count": 3,
   "metadata": {},
   "outputs": [
    {
     "ename": "NameError",
     "evalue": "name 'Dense' is not defined",
     "output_type": "error",
     "traceback": [
      "\u001b[0;31m---------------------------------------------------------------------------\u001b[0m",
      "\u001b[0;31mNameError\u001b[0m                                 Traceback (most recent call last)",
      "Cell \u001b[0;32mIn[3], line 1\u001b[0m\n\u001b[0;32m----> 1\u001b[0m models \u001b[39m=\u001b[39m [Dense,LSTM,LSTM2 , Conv1D]\n",
      "\u001b[0;31mNameError\u001b[0m: name 'Dense' is not defined"
     ]
    }
   ],
   "source": [
    "models = [Dense,LSTM,LSTM2 , Conv1D]"
   ]
  },
  {
   "cell_type": "code",
   "execution_count": 103,
   "metadata": {},
   "outputs": [
    {
     "name": "stdout",
     "output_type": "stream",
     "text": [
      "Epoch 1/40\n"
     ]
    },
    {
     "name": "stderr",
     "output_type": "stream",
     "text": [
      "2023-04-08 23:39:51.855116: I tensorflow/core/common_runtime/executor.cc:1197] [/device:CPU:0] (DEBUG INFO) Executor start aborting (this does not indicate an error and you can ignore this message): INVALID_ARGUMENT: You must feed a value for placeholder tensor 'Placeholder/_0' with dtype float and shape [29675,1]\n",
      "\t [[{{node Placeholder/_0}}]]\n",
      "2023-04-08 23:39:51.855466: I tensorflow/core/common_runtime/executor.cc:1197] [/device:CPU:0] (DEBUG INFO) Executor start aborting (this does not indicate an error and you can ignore this message): INVALID_ARGUMENT: You must feed a value for placeholder tensor 'Placeholder/_14' with dtype int32\n",
      "\t [[{{node Placeholder/_14}}]]\n"
     ]
    },
    {
     "name": "stdout",
     "output_type": "stream",
     "text": [
      "922/927 [============================>.] - ETA: 0s - loss: 1.6242 - mean_absolute_error: 0.5549"
     ]
    },
    {
     "name": "stderr",
     "output_type": "stream",
     "text": [
      "2023-04-08 23:39:54.170715: I tensorflow/core/common_runtime/executor.cc:1197] [/device:CPU:0] (DEBUG INFO) Executor start aborting (this does not indicate an error and you can ignore this message): INVALID_ARGUMENT: You must feed a value for placeholder tensor 'Placeholder/_13' with dtype int32\n",
      "\t [[{{node Placeholder/_13}}]]\n",
      "2023-04-08 23:39:54.171061: I tensorflow/core/common_runtime/executor.cc:1197] [/device:CPU:0] (DEBUG INFO) Executor start aborting (this does not indicate an error and you can ignore this message): INVALID_ARGUMENT: You must feed a value for placeholder tensor 'Placeholder/_8' with dtype int32 and shape [8437]\n",
      "\t [[{{node Placeholder/_8}}]]\n"
     ]
    },
    {
     "name": "stdout",
     "output_type": "stream",
     "text": [
      "927/927 [==============================] - 3s 2ms/step - loss: 1.6226 - mean_absolute_error: 0.5550 - val_loss: 0.8979 - val_mean_absolute_error: 0.6094\n",
      "Epoch 2/40\n",
      "927/927 [==============================] - 2s 2ms/step - loss: 0.3244 - mean_absolute_error: 0.2801 - val_loss: 0.1826 - val_mean_absolute_error: 0.2749\n",
      "Epoch 3/40\n",
      "927/927 [==============================] - 2s 2ms/step - loss: 0.2504 - mean_absolute_error: 0.2272 - val_loss: 0.0561 - val_mean_absolute_error: 0.1627\n",
      "Epoch 4/40\n",
      "927/927 [==============================] - 2s 2ms/step - loss: 0.0934 - mean_absolute_error: 0.1507 - val_loss: 0.2020 - val_mean_absolute_error: 0.2870\n",
      "Epoch 5/40\n",
      "927/927 [==============================] - 2s 2ms/step - loss: 0.1531 - mean_absolute_error: 0.1706 - val_loss: 0.0206 - val_mean_absolute_error: 0.0947\n",
      "Epoch 6/40\n",
      "927/927 [==============================] - 2s 2ms/step - loss: 0.0714 - mean_absolute_error: 0.1249 - val_loss: 0.0225 - val_mean_absolute_error: 0.0921\n",
      "Epoch 7/40\n",
      "927/927 [==============================] - 2s 2ms/step - loss: 0.1256 - mean_absolute_error: 0.1696 - val_loss: 0.1073 - val_mean_absolute_error: 0.1900\n",
      "Epoch 8/40\n",
      "927/927 [==============================] - 2s 2ms/step - loss: 0.0898 - mean_absolute_error: 0.1339 - val_loss: 0.0415 - val_mean_absolute_error: 0.1244\n",
      "Epoch 9/40\n",
      "927/927 [==============================] - 2s 2ms/step - loss: 0.0477 - mean_absolute_error: 0.0941 - val_loss: 0.1014 - val_mean_absolute_error: 0.1913\n",
      "Epoch 10/40\n",
      "927/927 [==============================] - 2s 2ms/step - loss: 0.0436 - mean_absolute_error: 0.0998 - val_loss: 0.0114 - val_mean_absolute_error: 0.0645\n",
      "Epoch 11/40\n",
      "927/927 [==============================] - 2s 2ms/step - loss: 0.0535 - mean_absolute_error: 0.1032 - val_loss: 0.1425 - val_mean_absolute_error: 0.2294\n",
      "Epoch 12/40\n",
      "927/927 [==============================] - 2s 2ms/step - loss: 0.0756 - mean_absolute_error: 0.1091 - val_loss: 0.0344 - val_mean_absolute_error: 0.1215\n",
      "Epoch 13/40\n",
      "927/927 [==============================] - 2s 2ms/step - loss: 0.0290 - mean_absolute_error: 0.0750 - val_loss: 0.1201 - val_mean_absolute_error: 0.2350\n",
      "Epoch 14/40\n",
      "927/927 [==============================] - 2s 2ms/step - loss: 0.0539 - mean_absolute_error: 0.0754 - val_loss: 0.0036 - val_mean_absolute_error: 0.0355\n",
      "Epoch 15/40\n",
      "927/927 [==============================] - 2s 2ms/step - loss: 0.0113 - mean_absolute_error: 0.0511 - val_loss: 0.0066 - val_mean_absolute_error: 0.0542\n",
      "Epoch 16/40\n",
      "927/927 [==============================] - 2s 2ms/step - loss: 0.0745 - mean_absolute_error: 0.1030 - val_loss: 0.0396 - val_mean_absolute_error: 0.1358\n",
      "Epoch 17/40\n",
      "927/927 [==============================] - 2s 2ms/step - loss: 0.0115 - mean_absolute_error: 0.0488 - val_loss: 0.0078 - val_mean_absolute_error: 0.0575\n",
      "Epoch 18/40\n",
      "927/927 [==============================] - 2s 2ms/step - loss: 0.0622 - mean_absolute_error: 0.1088 - val_loss: 0.0100 - val_mean_absolute_error: 0.0677\n",
      "Epoch 19/40\n",
      "927/927 [==============================] - 2s 2ms/step - loss: 0.0115 - mean_absolute_error: 0.0454 - val_loss: 9.8855e-04 - val_mean_absolute_error: 0.0215\n",
      "Epoch 20/40\n",
      "927/927 [==============================] - 2s 2ms/step - loss: 0.0068 - mean_absolute_error: 0.0394 - val_loss: 0.0168 - val_mean_absolute_error: 0.0890\n",
      "Epoch 21/40\n",
      "927/927 [==============================] - 2s 2ms/step - loss: 0.0545 - mean_absolute_error: 0.0680 - val_loss: 0.0012 - val_mean_absolute_error: 0.0234\n",
      "Epoch 22/40\n",
      "927/927 [==============================] - 2s 2ms/step - loss: 0.0120 - mean_absolute_error: 0.0473 - val_loss: 0.0168 - val_mean_absolute_error: 0.0834\n",
      "Epoch 23/40\n",
      "927/927 [==============================] - 2s 2ms/step - loss: 0.0306 - mean_absolute_error: 0.0787 - val_loss: 0.0033 - val_mean_absolute_error: 0.0381\n",
      "Epoch 24/40\n",
      "927/927 [==============================] - 2s 2ms/step - loss: 0.0101 - mean_absolute_error: 0.0485 - val_loss: 0.0189 - val_mean_absolute_error: 0.0938\n",
      "107/264 [===========>..................] - ETA: 0s - loss: 0.0189 - mean_absolute_error: 0.0945"
     ]
    },
    {
     "name": "stderr",
     "output_type": "stream",
     "text": [
      "2023-04-08 23:40:39.705374: I tensorflow/core/common_runtime/executor.cc:1197] [/device:CPU:0] (DEBUG INFO) Executor start aborting (this does not indicate an error and you can ignore this message): INVALID_ARGUMENT: You must feed a value for placeholder tensor 'Placeholder/_13' with dtype int32\n",
      "\t [[{{node Placeholder/_13}}]]\n",
      "2023-04-08 23:40:39.705733: I tensorflow/core/common_runtime/executor.cc:1197] [/device:CPU:0] (DEBUG INFO) Executor start aborting (this does not indicate an error and you can ignore this message): INVALID_ARGUMENT: You must feed a value for placeholder tensor 'Placeholder/_14' with dtype int32\n",
      "\t [[{{node Placeholder/_14}}]]\n"
     ]
    },
    {
     "name": "stdout",
     "output_type": "stream",
     "text": [
      "264/264 [==============================] - 0s 1ms/step - loss: 0.0189 - mean_absolute_error: 0.0938\n"
     ]
    },
    {
     "name": "stderr",
     "output_type": "stream",
     "text": [
      "2023-04-08 23:40:40.128212: I tensorflow/core/common_runtime/executor.cc:1197] [/device:CPU:0] (DEBUG INFO) Executor start aborting (this does not indicate an error and you can ignore this message): INVALID_ARGUMENT: You must feed a value for placeholder tensor 'Placeholder/_14' with dtype int32\n",
      "\t [[{{node Placeholder/_14}}]]\n",
      "2023-04-08 23:40:40.128630: I tensorflow/core/common_runtime/executor.cc:1197] [/device:CPU:0] (DEBUG INFO) Executor start aborting (this does not indicate an error and you can ignore this message): INVALID_ARGUMENT: You must feed a value for placeholder tensor 'Placeholder/_14' with dtype int32\n",
      "\t [[{{node Placeholder/_14}}]]\n"
     ]
    },
    {
     "name": "stdout",
     "output_type": "stream",
     "text": [
      "Epoch 1/40\n"
     ]
    },
    {
     "name": "stderr",
     "output_type": "stream",
     "text": [
      "2023-04-08 23:40:40.361787: I tensorflow/core/common_runtime/executor.cc:1197] [/device:CPU:0] (DEBUG INFO) Executor start aborting (this does not indicate an error and you can ignore this message): INVALID_ARGUMENT: You must feed a value for placeholder tensor 'Placeholder/_14' with dtype int32\n",
      "\t [[{{node Placeholder/_14}}]]\n",
      "2023-04-08 23:40:40.362218: I tensorflow/core/common_runtime/executor.cc:1197] [/device:CPU:0] (DEBUG INFO) Executor start aborting (this does not indicate an error and you can ignore this message): INVALID_ARGUMENT: You must feed a value for placeholder tensor 'Placeholder/_13' with dtype int32\n",
      "\t [[{{node Placeholder/_13}}]]\n",
      "2023-04-08 23:40:40.512245: I tensorflow/core/common_runtime/executor.cc:1197] [/device:CPU:0] (DEBUG INFO) Executor start aborting (this does not indicate an error and you can ignore this message): INVALID_ARGUMENT: You must feed a value for placeholder tensor 'gradients/split_2_grad/concat/split_2/split_dim' with dtype int32\n",
      "\t [[{{node gradients/split_2_grad/concat/split_2/split_dim}}]]\n",
      "2023-04-08 23:40:40.513232: I tensorflow/core/common_runtime/executor.cc:1197] [/device:CPU:0] (DEBUG INFO) Executor start aborting (this does not indicate an error and you can ignore this message): INVALID_ARGUMENT: You must feed a value for placeholder tensor 'gradients/split_grad/concat/split/split_dim' with dtype int32\n",
      "\t [[{{node gradients/split_grad/concat/split/split_dim}}]]\n",
      "2023-04-08 23:40:40.514087: I tensorflow/core/common_runtime/executor.cc:1197] [/device:CPU:0] (DEBUG INFO) Executor start aborting (this does not indicate an error and you can ignore this message): INVALID_ARGUMENT: You must feed a value for placeholder tensor 'gradients/split_1_grad/concat/split_1/split_dim' with dtype int32\n",
      "\t [[{{node gradients/split_1_grad/concat/split_1/split_dim}}]]\n",
      "2023-04-08 23:40:40.953719: I tensorflow/core/common_runtime/executor.cc:1197] [/device:CPU:0] (DEBUG INFO) Executor start aborting (this does not indicate an error and you can ignore this message): INVALID_ARGUMENT: You must feed a value for placeholder tensor 'gradients/split_2_grad/concat/split_2/split_dim' with dtype int32\n",
      "\t [[{{node gradients/split_2_grad/concat/split_2/split_dim}}]]\n",
      "2023-04-08 23:40:40.954656: I tensorflow/core/common_runtime/executor.cc:1197] [/device:CPU:0] (DEBUG INFO) Executor start aborting (this does not indicate an error and you can ignore this message): INVALID_ARGUMENT: You must feed a value for placeholder tensor 'gradients/split_grad/concat/split/split_dim' with dtype int32\n",
      "\t [[{{node gradients/split_grad/concat/split/split_dim}}]]\n",
      "2023-04-08 23:40:40.955589: I tensorflow/core/common_runtime/executor.cc:1197] [/device:CPU:0] (DEBUG INFO) Executor start aborting (this does not indicate an error and you can ignore this message): INVALID_ARGUMENT: You must feed a value for placeholder tensor 'gradients/split_1_grad/concat/split_1/split_dim' with dtype int32\n",
      "\t [[{{node gradients/split_1_grad/concat/split_1/split_dim}}]]\n"
     ]
    },
    {
     "name": "stdout",
     "output_type": "stream",
     "text": [
      "927/927 [==============================] - ETA: 0s - loss: 17.9027 - mean_absolute_error: 1.2210"
     ]
    },
    {
     "name": "stderr",
     "output_type": "stream",
     "text": [
      "2023-04-08 23:40:44.179824: I tensorflow/core/common_runtime/executor.cc:1197] [/device:CPU:0] (DEBUG INFO) Executor start aborting (this does not indicate an error and you can ignore this message): INVALID_ARGUMENT: You must feed a value for placeholder tensor 'Placeholder/_8' with dtype int32 and shape [8437]\n",
      "\t [[{{node Placeholder/_8}}]]\n",
      "2023-04-08 23:40:44.180166: I tensorflow/core/common_runtime/executor.cc:1197] [/device:CPU:0] (DEBUG INFO) Executor start aborting (this does not indicate an error and you can ignore this message): INVALID_ARGUMENT: You must feed a value for placeholder tensor 'Placeholder/_14' with dtype int32\n",
      "\t [[{{node Placeholder/_14}}]]\n",
      "2023-04-08 23:40:44.326916: I tensorflow/core/common_runtime/executor.cc:1197] [/device:CPU:0] (DEBUG INFO) Executor start aborting (this does not indicate an error and you can ignore this message): INVALID_ARGUMENT: You must feed a value for placeholder tensor 'gradients/split_2_grad/concat/split_2/split_dim' with dtype int32\n",
      "\t [[{{node gradients/split_2_grad/concat/split_2/split_dim}}]]\n",
      "2023-04-08 23:40:44.327783: I tensorflow/core/common_runtime/executor.cc:1197] [/device:CPU:0] (DEBUG INFO) Executor start aborting (this does not indicate an error and you can ignore this message): INVALID_ARGUMENT: You must feed a value for placeholder tensor 'gradients/split_grad/concat/split/split_dim' with dtype int32\n",
      "\t [[{{node gradients/split_grad/concat/split/split_dim}}]]\n",
      "2023-04-08 23:40:44.328570: I tensorflow/core/common_runtime/executor.cc:1197] [/device:CPU:0] (DEBUG INFO) Executor start aborting (this does not indicate an error and you can ignore this message): INVALID_ARGUMENT: You must feed a value for placeholder tensor 'gradients/split_1_grad/concat/split_1/split_dim' with dtype int32\n",
      "\t [[{{node gradients/split_1_grad/concat/split_1/split_dim}}]]\n"
     ]
    },
    {
     "name": "stdout",
     "output_type": "stream",
     "text": [
      "927/927 [==============================] - 4s 4ms/step - loss: 17.9027 - mean_absolute_error: 1.2210 - val_loss: 0.9743 - val_mean_absolute_error: 0.4864\n",
      "Epoch 2/40\n",
      "927/927 [==============================] - 3s 3ms/step - loss: 6.0179 - mean_absolute_error: 0.5912 - val_loss: 0.5948 - val_mean_absolute_error: 0.4014\n",
      "Epoch 3/40\n",
      "927/927 [==============================] - 3s 3ms/step - loss: 3.5260 - mean_absolute_error: 0.4818 - val_loss: 0.4086 - val_mean_absolute_error: 0.3498\n",
      "Epoch 4/40\n",
      "927/927 [==============================] - 3s 3ms/step - loss: 2.3770 - mean_absolute_error: 0.4170 - val_loss: 0.3757 - val_mean_absolute_error: 0.3190\n",
      "Epoch 5/40\n",
      "927/927 [==============================] - 3s 3ms/step - loss: 1.8234 - mean_absolute_error: 0.3832 - val_loss: 0.2960 - val_mean_absolute_error: 0.3095\n",
      "Epoch 6/40\n",
      "927/927 [==============================] - 3s 3ms/step - loss: 1.4902 - mean_absolute_error: 0.3611 - val_loss: 0.2382 - val_mean_absolute_error: 0.2668\n",
      "Epoch 7/40\n",
      "927/927 [==============================] - 3s 3ms/step - loss: 1.1645 - mean_absolute_error: 0.3274 - val_loss: 0.2403 - val_mean_absolute_error: 0.2795\n",
      "Epoch 8/40\n",
      "927/927 [==============================] - 3s 3ms/step - loss: 1.0271 - mean_absolute_error: 0.3153 - val_loss: 0.2700 - val_mean_absolute_error: 0.3061\n",
      "Epoch 9/40\n",
      "927/927 [==============================] - 3s 3ms/step - loss: 0.9202 - mean_absolute_error: 0.3061 - val_loss: 0.1973 - val_mean_absolute_error: 0.2566\n",
      "Epoch 10/40\n",
      "927/927 [==============================] - 3s 3ms/step - loss: 0.9164 - mean_absolute_error: 0.3010 - val_loss: 0.1904 - val_mean_absolute_error: 0.2445\n",
      "Epoch 11/40\n",
      "927/927 [==============================] - 3s 3ms/step - loss: 0.7875 - mean_absolute_error: 0.2786 - val_loss: 0.1488 - val_mean_absolute_error: 0.2122\n",
      "Epoch 12/40\n",
      "927/927 [==============================] - 3s 3ms/step - loss: 0.7505 - mean_absolute_error: 0.2689 - val_loss: 0.1347 - val_mean_absolute_error: 0.2037\n",
      "Epoch 13/40\n",
      "927/927 [==============================] - 3s 3ms/step - loss: 0.7425 - mean_absolute_error: 0.2695 - val_loss: 0.1295 - val_mean_absolute_error: 0.2015\n",
      "Epoch 14/40\n",
      "927/927 [==============================] - 3s 3ms/step - loss: 0.6974 - mean_absolute_error: 0.2613 - val_loss: 0.2022 - val_mean_absolute_error: 0.2585\n",
      "Epoch 15/40\n",
      "927/927 [==============================] - 3s 3ms/step - loss: 0.8128 - mean_absolute_error: 0.2810 - val_loss: 0.1235 - val_mean_absolute_error: 0.2025\n",
      "Epoch 16/40\n",
      "927/927 [==============================] - 3s 3ms/step - loss: 0.6333 - mean_absolute_error: 0.2407 - val_loss: 0.1151 - val_mean_absolute_error: 0.1803\n",
      "Epoch 17/40\n",
      "927/927 [==============================] - 3s 3ms/step - loss: 0.5513 - mean_absolute_error: 0.2264 - val_loss: 0.1598 - val_mean_absolute_error: 0.2088\n",
      "Epoch 18/40\n",
      "927/927 [==============================] - 3s 3ms/step - loss: 0.5625 - mean_absolute_error: 0.2301 - val_loss: 0.1168 - val_mean_absolute_error: 0.1821\n",
      "Epoch 19/40\n",
      "927/927 [==============================] - 3s 3ms/step - loss: 0.5688 - mean_absolute_error: 0.2305 - val_loss: 0.1310 - val_mean_absolute_error: 0.2250\n",
      "Epoch 20/40\n",
      "927/927 [==============================] - 3s 3ms/step - loss: 0.5569 - mean_absolute_error: 0.2211 - val_loss: 0.0887 - val_mean_absolute_error: 0.1591\n",
      "Epoch 21/40\n",
      "927/927 [==============================] - 3s 3ms/step - loss: 0.5423 - mean_absolute_error: 0.2175 - val_loss: 0.1062 - val_mean_absolute_error: 0.1764\n",
      "Epoch 22/40\n",
      "927/927 [==============================] - 3s 3ms/step - loss: 0.5543 - mean_absolute_error: 0.2127 - val_loss: 0.1157 - val_mean_absolute_error: 0.1828\n",
      "Epoch 23/40\n",
      "927/927 [==============================] - 3s 3ms/step - loss: 0.5191 - mean_absolute_error: 0.1960 - val_loss: 0.0746 - val_mean_absolute_error: 0.1287\n",
      "Epoch 24/40\n",
      "927/927 [==============================] - 3s 3ms/step - loss: 0.5194 - mean_absolute_error: 0.1963 - val_loss: 0.0696 - val_mean_absolute_error: 0.1301\n",
      "Epoch 25/40\n",
      "927/927 [==============================] - 3s 3ms/step - loss: 0.5289 - mean_absolute_error: 0.1882 - val_loss: 0.0684 - val_mean_absolute_error: 0.1319\n",
      "Epoch 26/40\n",
      "927/927 [==============================] - 3s 3ms/step - loss: 0.4502 - mean_absolute_error: 0.1725 - val_loss: 0.0644 - val_mean_absolute_error: 0.1211\n",
      "Epoch 27/40\n",
      "927/927 [==============================] - 3s 3ms/step - loss: 0.5115 - mean_absolute_error: 0.1810 - val_loss: 0.0493 - val_mean_absolute_error: 0.1026\n",
      "Epoch 28/40\n",
      "927/927 [==============================] - 3s 3ms/step - loss: 0.4015 - mean_absolute_error: 0.1540 - val_loss: 0.0974 - val_mean_absolute_error: 0.2371\n",
      "Epoch 29/40\n",
      "927/927 [==============================] - 3s 3ms/step - loss: 0.4101 - mean_absolute_error: 0.1621 - val_loss: 0.0570 - val_mean_absolute_error: 0.1185\n",
      "Epoch 30/40\n",
      "927/927 [==============================] - 3s 3ms/step - loss: 0.4070 - mean_absolute_error: 0.1590 - val_loss: 0.0492 - val_mean_absolute_error: 0.1213\n",
      "Epoch 31/40\n",
      "927/927 [==============================] - 3s 3ms/step - loss: 0.4733 - mean_absolute_error: 0.1706 - val_loss: 0.0952 - val_mean_absolute_error: 0.1786\n",
      "Epoch 32/40\n",
      "927/927 [==============================] - 3s 3ms/step - loss: 0.3956 - mean_absolute_error: 0.1463 - val_loss: 0.2548 - val_mean_absolute_error: 0.4587\n",
      "Epoch 33/40\n",
      "927/927 [==============================] - 3s 3ms/step - loss: 0.4782 - mean_absolute_error: 0.1790 - val_loss: 0.0316 - val_mean_absolute_error: 0.0847\n",
      "Epoch 34/40\n",
      "927/927 [==============================] - 3s 3ms/step - loss: 0.3661 - mean_absolute_error: 0.1417 - val_loss: 0.0491 - val_mean_absolute_error: 0.1032\n",
      "Epoch 35/40\n",
      "927/927 [==============================] - 3s 3ms/step - loss: 0.4060 - mean_absolute_error: 0.1602 - val_loss: 0.0500 - val_mean_absolute_error: 0.1118\n",
      "Epoch 36/40\n",
      "927/927 [==============================] - 3s 3ms/step - loss: 0.4363 - mean_absolute_error: 0.1676 - val_loss: 0.0661 - val_mean_absolute_error: 0.1805\n",
      "Epoch 37/40\n",
      "927/927 [==============================] - 3s 3ms/step - loss: 0.3614 - mean_absolute_error: 0.1408 - val_loss: 0.0285 - val_mean_absolute_error: 0.0752\n",
      "Epoch 38/40\n",
      "927/927 [==============================] - 3s 3ms/step - loss: 0.3533 - mean_absolute_error: 0.1457 - val_loss: 0.0340 - val_mean_absolute_error: 0.0920\n",
      "Epoch 39/40\n",
      "927/927 [==============================] - 3s 3ms/step - loss: 0.2914 - mean_absolute_error: 0.1317 - val_loss: 0.0476 - val_mean_absolute_error: 0.1224\n",
      "Epoch 40/40\n",
      "927/927 [==============================] - 3s 3ms/step - loss: 0.3783 - mean_absolute_error: 0.1559 - val_loss: 0.0547 - val_mean_absolute_error: 0.1478\n",
      " 92/264 [=========>....................] - ETA: 0s - loss: 0.0576 - mean_absolute_error: 0.1484"
     ]
    },
    {
     "name": "stderr",
     "output_type": "stream",
     "text": [
      "2023-04-08 23:42:44.591178: I tensorflow/core/common_runtime/executor.cc:1197] [/device:CPU:0] (DEBUG INFO) Executor start aborting (this does not indicate an error and you can ignore this message): INVALID_ARGUMENT: You must feed a value for placeholder tensor 'Placeholder/_8' with dtype int32 and shape [8437]\n",
      "\t [[{{node Placeholder/_8}}]]\n",
      "2023-04-08 23:42:44.591577: I tensorflow/core/common_runtime/executor.cc:1197] [/device:CPU:0] (DEBUG INFO) Executor start aborting (this does not indicate an error and you can ignore this message): INVALID_ARGUMENT: You must feed a value for placeholder tensor 'Placeholder/_13' with dtype int32\n",
      "\t [[{{node Placeholder/_13}}]]\n"
     ]
    },
    {
     "name": "stdout",
     "output_type": "stream",
     "text": [
      "264/264 [==============================] - 0s 2ms/step - loss: 0.0547 - mean_absolute_error: 0.1478\n"
     ]
    },
    {
     "name": "stderr",
     "output_type": "stream",
     "text": [
      "2023-04-08 23:42:45.105810: I tensorflow/core/common_runtime/executor.cc:1197] [/device:CPU:0] (DEBUG INFO) Executor start aborting (this does not indicate an error and you can ignore this message): INVALID_ARGUMENT: You must feed a value for placeholder tensor 'Placeholder/_14' with dtype int32\n",
      "\t [[{{node Placeholder/_14}}]]\n",
      "2023-04-08 23:42:45.106152: I tensorflow/core/common_runtime/executor.cc:1197] [/device:CPU:0] (DEBUG INFO) Executor start aborting (this does not indicate an error and you can ignore this message): INVALID_ARGUMENT: You must feed a value for placeholder tensor 'Placeholder/_0' with dtype float and shape [4240,1]\n",
      "\t [[{{node Placeholder/_0}}]]\n"
     ]
    },
    {
     "name": "stdout",
     "output_type": "stream",
     "text": [
      "Epoch 1/40\n"
     ]
    },
    {
     "name": "stderr",
     "output_type": "stream",
     "text": [
      "2023-04-08 23:42:45.395944: I tensorflow/core/common_runtime/executor.cc:1197] [/device:CPU:0] (DEBUG INFO) Executor start aborting (this does not indicate an error and you can ignore this message): INVALID_ARGUMENT: You must feed a value for placeholder tensor 'Placeholder/_0' with dtype float and shape [29675,1]\n",
      "\t [[{{node Placeholder/_0}}]]\n",
      "2023-04-08 23:42:45.396340: I tensorflow/core/common_runtime/executor.cc:1197] [/device:CPU:0] (DEBUG INFO) Executor start aborting (this does not indicate an error and you can ignore this message): INVALID_ARGUMENT: You must feed a value for placeholder tensor 'Placeholder/_8' with dtype int32 and shape [29634]\n",
      "\t [[{{node Placeholder/_8}}]]\n",
      "2023-04-08 23:42:45.545205: I tensorflow/core/common_runtime/executor.cc:1197] [/device:CPU:0] (DEBUG INFO) Executor start aborting (this does not indicate an error and you can ignore this message): INVALID_ARGUMENT: You must feed a value for placeholder tensor 'gradients/split_2_grad/concat/split_2/split_dim' with dtype int32\n",
      "\t [[{{node gradients/split_2_grad/concat/split_2/split_dim}}]]\n",
      "2023-04-08 23:42:45.546204: I tensorflow/core/common_runtime/executor.cc:1197] [/device:CPU:0] (DEBUG INFO) Executor start aborting (this does not indicate an error and you can ignore this message): INVALID_ARGUMENT: You must feed a value for placeholder tensor 'gradients/split_grad/concat/split/split_dim' with dtype int32\n",
      "\t [[{{node gradients/split_grad/concat/split/split_dim}}]]\n",
      "2023-04-08 23:42:45.547154: I tensorflow/core/common_runtime/executor.cc:1197] [/device:CPU:0] (DEBUG INFO) Executor start aborting (this does not indicate an error and you can ignore this message): INVALID_ARGUMENT: You must feed a value for placeholder tensor 'gradients/split_1_grad/concat/split_1/split_dim' with dtype int32\n",
      "\t [[{{node gradients/split_1_grad/concat/split_1/split_dim}}]]\n",
      "2023-04-08 23:42:46.127751: I tensorflow/core/common_runtime/executor.cc:1197] [/device:CPU:0] (DEBUG INFO) Executor start aborting (this does not indicate an error and you can ignore this message): INVALID_ARGUMENT: You must feed a value for placeholder tensor 'gradients/split_2_grad/concat/split_2/split_dim' with dtype int32\n",
      "\t [[{{node gradients/split_2_grad/concat/split_2/split_dim}}]]\n",
      "2023-04-08 23:42:46.128957: I tensorflow/core/common_runtime/executor.cc:1197] [/device:CPU:0] (DEBUG INFO) Executor start aborting (this does not indicate an error and you can ignore this message): INVALID_ARGUMENT: You must feed a value for placeholder tensor 'gradients/split_grad/concat/split/split_dim' with dtype int32\n",
      "\t [[{{node gradients/split_grad/concat/split/split_dim}}]]\n",
      "2023-04-08 23:42:46.129935: I tensorflow/core/common_runtime/executor.cc:1197] [/device:CPU:0] (DEBUG INFO) Executor start aborting (this does not indicate an error and you can ignore this message): INVALID_ARGUMENT: You must feed a value for placeholder tensor 'gradients/split_1_grad/concat/split_1/split_dim' with dtype int32\n",
      "\t [[{{node gradients/split_1_grad/concat/split_1/split_dim}}]]\n"
     ]
    },
    {
     "name": "stdout",
     "output_type": "stream",
     "text": [
      "923/927 [============================>.] - ETA: 0s - loss: 8.0977 - mean_absolute_error: 1.5128"
     ]
    },
    {
     "name": "stderr",
     "output_type": "stream",
     "text": [
      "2023-04-08 23:42:50.816127: I tensorflow/core/common_runtime/executor.cc:1197] [/device:CPU:0] (DEBUG INFO) Executor start aborting (this does not indicate an error and you can ignore this message): INVALID_ARGUMENT: You must feed a value for placeholder tensor 'Placeholder/_8' with dtype int32 and shape [8437]\n",
      "\t [[{{node Placeholder/_8}}]]\n",
      "2023-04-08 23:42:50.816467: I tensorflow/core/common_runtime/executor.cc:1197] [/device:CPU:0] (DEBUG INFO) Executor start aborting (this does not indicate an error and you can ignore this message): INVALID_ARGUMENT: You must feed a value for placeholder tensor 'Placeholder/_13' with dtype int32\n",
      "\t [[{{node Placeholder/_13}}]]\n",
      "2023-04-08 23:42:51.225846: I tensorflow/core/common_runtime/executor.cc:1197] [/device:CPU:0] (DEBUG INFO) Executor start aborting (this does not indicate an error and you can ignore this message): INVALID_ARGUMENT: You must feed a value for placeholder tensor 'gradients/split_2_grad/concat/split_2/split_dim' with dtype int32\n",
      "\t [[{{node gradients/split_2_grad/concat/split_2/split_dim}}]]\n",
      "2023-04-08 23:42:51.226969: I tensorflow/core/common_runtime/executor.cc:1197] [/device:CPU:0] (DEBUG INFO) Executor start aborting (this does not indicate an error and you can ignore this message): INVALID_ARGUMENT: You must feed a value for placeholder tensor 'gradients/split_grad/concat/split/split_dim' with dtype int32\n",
      "\t [[{{node gradients/split_grad/concat/split/split_dim}}]]\n",
      "2023-04-08 23:42:51.227779: I tensorflow/core/common_runtime/executor.cc:1197] [/device:CPU:0] (DEBUG INFO) Executor start aborting (this does not indicate an error and you can ignore this message): INVALID_ARGUMENT: You must feed a value for placeholder tensor 'gradients/split_1_grad/concat/split_1/split_dim' with dtype int32\n",
      "\t [[{{node gradients/split_1_grad/concat/split_1/split_dim}}]]\n"
     ]
    },
    {
     "name": "stdout",
     "output_type": "stream",
     "text": [
      "927/927 [==============================] - 6s 5ms/step - loss: 8.0765 - mean_absolute_error: 1.5108 - val_loss: 0.8710 - val_mean_absolute_error: 0.5996\n",
      "Epoch 2/40\n",
      "927/927 [==============================] - 4s 4ms/step - loss: 4.3650 - mean_absolute_error: 1.1855 - val_loss: 0.9998 - val_mean_absolute_error: 0.6560\n",
      "Epoch 3/40\n",
      "927/927 [==============================] - 4s 4ms/step - loss: 3.8867 - mean_absolute_error: 1.1066 - val_loss: 0.8120 - val_mean_absolute_error: 0.5826\n",
      "Epoch 4/40\n",
      "927/927 [==============================] - 4s 4ms/step - loss: 3.6779 - mean_absolute_error: 1.0552 - val_loss: 1.1346 - val_mean_absolute_error: 0.6800\n",
      "Epoch 5/40\n",
      "927/927 [==============================] - 4s 4ms/step - loss: 3.7262 - mean_absolute_error: 1.0467 - val_loss: 0.8051 - val_mean_absolute_error: 0.6500\n",
      "Epoch 6/40\n",
      "927/927 [==============================] - 4s 4ms/step - loss: 3.4945 - mean_absolute_error: 1.0234 - val_loss: 1.4447 - val_mean_absolute_error: 0.8412\n",
      "Epoch 7/40\n",
      "927/927 [==============================] - 4s 4ms/step - loss: 3.1834 - mean_absolute_error: 0.9811 - val_loss: 0.6150 - val_mean_absolute_error: 0.4925\n",
      "Epoch 8/40\n",
      "927/927 [==============================] - 4s 5ms/step - loss: 3.2428 - mean_absolute_error: 0.9595 - val_loss: 0.6586 - val_mean_absolute_error: 0.5399\n",
      "Epoch 9/40\n",
      "927/927 [==============================] - 4s 4ms/step - loss: 3.2170 - mean_absolute_error: 0.9656 - val_loss: 0.7050 - val_mean_absolute_error: 0.5500\n",
      "Epoch 10/40\n",
      "927/927 [==============================] - 4s 4ms/step - loss: 3.0432 - mean_absolute_error: 0.9610 - val_loss: 0.9502 - val_mean_absolute_error: 0.6790\n",
      "Epoch 11/40\n",
      "927/927 [==============================] - 4s 4ms/step - loss: 3.7937 - mean_absolute_error: 1.0180 - val_loss: 0.5233 - val_mean_absolute_error: 0.4755\n",
      "Epoch 12/40\n",
      "927/927 [==============================] - 4s 4ms/step - loss: 2.9455 - mean_absolute_error: 0.9450 - val_loss: 0.4647 - val_mean_absolute_error: 0.4334\n",
      "Epoch 13/40\n",
      "927/927 [==============================] - 4s 4ms/step - loss: 2.9390 - mean_absolute_error: 0.9305 - val_loss: 0.7452 - val_mean_absolute_error: 0.6432\n",
      "Epoch 14/40\n",
      "927/927 [==============================] - 4s 4ms/step - loss: 2.8997 - mean_absolute_error: 0.9342 - val_loss: 0.4053 - val_mean_absolute_error: 0.4153\n",
      "Epoch 15/40\n",
      "927/927 [==============================] - 4s 4ms/step - loss: 2.8250 - mean_absolute_error: 0.9187 - val_loss: 0.3832 - val_mean_absolute_error: 0.3907\n",
      "Epoch 16/40\n",
      "927/927 [==============================] - 4s 4ms/step - loss: 2.7464 - mean_absolute_error: 0.9048 - val_loss: 0.7591 - val_mean_absolute_error: 0.5368\n",
      "Epoch 17/40\n",
      "927/927 [==============================] - 4s 4ms/step - loss: 2.8441 - mean_absolute_error: 0.9152 - val_loss: 0.5982 - val_mean_absolute_error: 0.5454\n",
      "Epoch 18/40\n",
      "927/927 [==============================] - 4s 4ms/step - loss: 2.6717 - mean_absolute_error: 0.8938 - val_loss: 0.4701 - val_mean_absolute_error: 0.4232\n",
      "Epoch 19/40\n",
      "927/927 [==============================] - 4s 4ms/step - loss: 2.6715 - mean_absolute_error: 0.8929 - val_loss: 0.4346 - val_mean_absolute_error: 0.4439\n",
      "Epoch 20/40\n",
      "927/927 [==============================] - 4s 4ms/step - loss: 2.9117 - mean_absolute_error: 0.9145 - val_loss: 0.7315 - val_mean_absolute_error: 0.5985\n",
      " 90/264 [=========>....................] - ETA: 0s - loss: 0.7288 - mean_absolute_error: 0.6038"
     ]
    },
    {
     "name": "stderr",
     "output_type": "stream",
     "text": [
      "2023-04-08 23:44:07.983728: I tensorflow/core/common_runtime/executor.cc:1197] [/device:CPU:0] (DEBUG INFO) Executor start aborting (this does not indicate an error and you can ignore this message): INVALID_ARGUMENT: You must feed a value for placeholder tensor 'Placeholder/_14' with dtype int32\n",
      "\t [[{{node Placeholder/_14}}]]\n",
      "2023-04-08 23:44:07.984154: I tensorflow/core/common_runtime/executor.cc:1197] [/device:CPU:0] (DEBUG INFO) Executor start aborting (this does not indicate an error and you can ignore this message): INVALID_ARGUMENT: You must feed a value for placeholder tensor 'Placeholder/_14' with dtype int32\n",
      "\t [[{{node Placeholder/_14}}]]\n"
     ]
    },
    {
     "name": "stdout",
     "output_type": "stream",
     "text": [
      "264/264 [==============================] - 0s 2ms/step - loss: 0.7315 - mean_absolute_error: 0.5985\n"
     ]
    },
    {
     "name": "stderr",
     "output_type": "stream",
     "text": [
      "2023-04-08 23:44:08.493199: I tensorflow/core/common_runtime/executor.cc:1197] [/device:CPU:0] (DEBUG INFO) Executor start aborting (this does not indicate an error and you can ignore this message): INVALID_ARGUMENT: You must feed a value for placeholder tensor 'Placeholder/_8' with dtype int32 and shape [4199]\n",
      "\t [[{{node Placeholder/_8}}]]\n",
      "2023-04-08 23:44:08.493555: I tensorflow/core/common_runtime/executor.cc:1197] [/device:CPU:0] (DEBUG INFO) Executor start aborting (this does not indicate an error and you can ignore this message): INVALID_ARGUMENT: You must feed a value for placeholder tensor 'Placeholder/_14' with dtype int32\n",
      "\t [[{{node Placeholder/_14}}]]\n"
     ]
    },
    {
     "name": "stdout",
     "output_type": "stream",
     "text": [
      "Epoch 1/40\n"
     ]
    },
    {
     "name": "stderr",
     "output_type": "stream",
     "text": [
      "2023-04-08 23:44:08.788201: I tensorflow/core/common_runtime/executor.cc:1197] [/device:CPU:0] (DEBUG INFO) Executor start aborting (this does not indicate an error and you can ignore this message): INVALID_ARGUMENT: You must feed a value for placeholder tensor 'Placeholder/_14' with dtype int32\n",
      "\t [[{{node Placeholder/_14}}]]\n",
      "2023-04-08 23:44:08.788592: I tensorflow/core/common_runtime/executor.cc:1197] [/device:CPU:0] (DEBUG INFO) Executor start aborting (this does not indicate an error and you can ignore this message): INVALID_ARGUMENT: You must feed a value for placeholder tensor 'Placeholder/_0' with dtype float and shape [29675,1]\n",
      "\t [[{{node Placeholder/_0}}]]\n"
     ]
    },
    {
     "name": "stdout",
     "output_type": "stream",
     "text": [
      "927/927 [==============================] - ETA: 0s - loss: 13.7528 - mean_absolute_error: 2.0182"
     ]
    },
    {
     "name": "stderr",
     "output_type": "stream",
     "text": [
      "2023-04-08 23:44:15.184088: I tensorflow/core/common_runtime/executor.cc:1197] [/device:CPU:0] (DEBUG INFO) Executor start aborting (this does not indicate an error and you can ignore this message): INVALID_ARGUMENT: You must feed a value for placeholder tensor 'Placeholder/_13' with dtype int32\n",
      "\t [[{{node Placeholder/_13}}]]\n",
      "2023-04-08 23:44:15.184518: I tensorflow/core/common_runtime/executor.cc:1197] [/device:CPU:0] (DEBUG INFO) Executor start aborting (this does not indicate an error and you can ignore this message): INVALID_ARGUMENT: You must feed a value for placeholder tensor 'Placeholder/_14' with dtype int32\n",
      "\t [[{{node Placeholder/_14}}]]\n"
     ]
    },
    {
     "name": "stdout",
     "output_type": "stream",
     "text": [
      "927/927 [==============================] - 7s 5ms/step - loss: 13.7528 - mean_absolute_error: 2.0182 - val_loss: 5.0778 - val_mean_absolute_error: 1.4686\n",
      "Epoch 2/40\n",
      "927/927 [==============================] - 4s 5ms/step - loss: 9.1830 - mean_absolute_error: 1.7001 - val_loss: 3.6391 - val_mean_absolute_error: 1.2346\n",
      "Epoch 3/40\n",
      "927/927 [==============================] - 4s 5ms/step - loss: 8.2852 - mean_absolute_error: 1.6035 - val_loss: 3.4110 - val_mean_absolute_error: 1.1305\n",
      "Epoch 4/40\n",
      "927/927 [==============================] - 4s 5ms/step - loss: 7.0987 - mean_absolute_error: 1.4836 - val_loss: 4.5508 - val_mean_absolute_error: 1.3572\n",
      "Epoch 5/40\n",
      "927/927 [==============================] - 4s 5ms/step - loss: 6.5700 - mean_absolute_error: 1.4194 - val_loss: 3.9027 - val_mean_absolute_error: 1.2052\n",
      "Epoch 6/40\n",
      "927/927 [==============================] - 4s 5ms/step - loss: 5.8844 - mean_absolute_error: 1.3436 - val_loss: 3.2590 - val_mean_absolute_error: 1.0592\n",
      "Epoch 7/40\n",
      "927/927 [==============================] - 4s 5ms/step - loss: 5.3876 - mean_absolute_error: 1.3000 - val_loss: 4.3274 - val_mean_absolute_error: 1.3713\n",
      "Epoch 8/40\n",
      "927/927 [==============================] - 4s 5ms/step - loss: 5.2414 - mean_absolute_error: 1.2616 - val_loss: 4.4876 - val_mean_absolute_error: 1.2921\n",
      "Epoch 9/40\n",
      "927/927 [==============================] - 4s 5ms/step - loss: 4.8394 - mean_absolute_error: 1.2212 - val_loss: 3.4943 - val_mean_absolute_error: 1.1290\n",
      "Epoch 10/40\n",
      "927/927 [==============================] - 4s 5ms/step - loss: 4.9367 - mean_absolute_error: 1.2190 - val_loss: 3.5083 - val_mean_absolute_error: 1.1245\n",
      "Epoch 11/40\n",
      "927/927 [==============================] - 4s 5ms/step - loss: 4.4868 - mean_absolute_error: 1.1716 - val_loss: 3.2362 - val_mean_absolute_error: 1.0771\n",
      "Epoch 12/40\n",
      "927/927 [==============================] - 4s 5ms/step - loss: 4.2370 - mean_absolute_error: 1.1378 - val_loss: 3.4390 - val_mean_absolute_error: 1.1193\n",
      "Epoch 13/40\n",
      "927/927 [==============================] - 4s 5ms/step - loss: 4.1479 - mean_absolute_error: 1.1261 - val_loss: 3.5843 - val_mean_absolute_error: 1.2220\n",
      "Epoch 14/40\n",
      "927/927 [==============================] - 4s 5ms/step - loss: 4.2265 - mean_absolute_error: 1.1325 - val_loss: 3.7102 - val_mean_absolute_error: 1.1366\n",
      "Epoch 15/40\n",
      "927/927 [==============================] - 4s 5ms/step - loss: 4.0521 - mean_absolute_error: 1.1085 - val_loss: 4.9926 - val_mean_absolute_error: 1.3804\n",
      "Epoch 16/40\n",
      "927/927 [==============================] - 4s 5ms/step - loss: 4.3313 - mean_absolute_error: 1.1441 - val_loss: 3.4825 - val_mean_absolute_error: 1.1242\n",
      " 99/264 [==========>...................] - ETA: 0s - loss: 3.7319 - mean_absolute_error: 1.1500"
     ]
    },
    {
     "name": "stderr",
     "output_type": "stream",
     "text": [
      "2023-04-08 23:45:20.930217: I tensorflow/core/common_runtime/executor.cc:1197] [/device:CPU:0] (DEBUG INFO) Executor start aborting (this does not indicate an error and you can ignore this message): INVALID_ARGUMENT: You must feed a value for placeholder tensor 'Placeholder/_14' with dtype int32\n",
      "\t [[{{node Placeholder/_14}}]]\n",
      "2023-04-08 23:45:20.930649: I tensorflow/core/common_runtime/executor.cc:1197] [/device:CPU:0] (DEBUG INFO) Executor start aborting (this does not indicate an error and you can ignore this message): INVALID_ARGUMENT: You must feed a value for placeholder tensor 'Placeholder/_14' with dtype int32\n",
      "\t [[{{node Placeholder/_14}}]]\n"
     ]
    },
    {
     "name": "stdout",
     "output_type": "stream",
     "text": [
      "264/264 [==============================] - 0s 2ms/step - loss: 3.4825 - mean_absolute_error: 1.1242\n"
     ]
    },
    {
     "name": "stderr",
     "output_type": "stream",
     "text": [
      "2023-04-08 23:45:21.416237: I tensorflow/core/common_runtime/executor.cc:1197] [/device:CPU:0] (DEBUG INFO) Executor start aborting (this does not indicate an error and you can ignore this message): INVALID_ARGUMENT: You must feed a value for placeholder tensor 'Placeholder/_13' with dtype int32\n",
      "\t [[{{node Placeholder/_13}}]]\n",
      "2023-04-08 23:45:21.416586: I tensorflow/core/common_runtime/executor.cc:1197] [/device:CPU:0] (DEBUG INFO) Executor start aborting (this does not indicate an error and you can ignore this message): INVALID_ARGUMENT: You must feed a value for placeholder tensor 'Placeholder/_8' with dtype int32 and shape [4199]\n",
      "\t [[{{node Placeholder/_8}}]]\n"
     ]
    }
   ],
   "source": [
    "\n",
    "val_performance={}\n",
    "performance={}\n",
    "for model in models:\n",
    "        history = compile_and_fit(model, wide_window)\n",
    "\n",
    "        val_performance[f\"{model.name}\"] = model.evaluate(wide_window.val)\n",
    "        performance[f\"{model.name}\"] = model.evaluate(wide_window.test, verbose=0)\n"
   ]
  },
  {
   "cell_type": "code",
   "execution_count": 104,
   "metadata": {},
   "outputs": [
    {
     "data": {
      "text/plain": [
       "(      Dense      LSTM     LSTM2    Conv1D\n",
       " 0  0.025934  0.106516  0.947885  4.928379\n",
       " 1  0.102092  0.163727  0.642667  1.255720,\n",
       "       Dense      LSTM     LSTM2    Conv1D\n",
       " 0  0.018918  0.054651  0.731542  3.482465\n",
       " 1  0.093812  0.147781  0.598533  1.124214)"
      ]
     },
     "execution_count": 104,
     "metadata": {},
     "output_type": "execute_result"
    }
   ],
   "source": [
    "# performance and validated performance\n",
    "pd.DataFrame(performance) , pd.DataFrame(val_performance)"
   ]
  },
  {
   "cell_type": "code",
   "execution_count": 105,
   "metadata": {},
   "outputs": [],
   "source": [
    "#save models\n",
    "for model in models:\n",
    " model.save(f\"{model.name}.h5\" ,overwrite=True)"
   ]
  },
  {
   "cell_type": "code",
   "execution_count": 4,
   "metadata": {},
   "outputs": [
    {
     "name": "stdout",
     "output_type": "stream",
     "text": [
      "['Dense.h5', 'LSTM2.h5', 'LSTM.h5', 'Conv1D.h5']\n"
     ]
    },
    {
     "name": "stderr",
     "output_type": "stream",
     "text": [
      "2023-04-09 00:00:31.520002: I tensorflow/compiler/xla/stream_executor/cuda/cuda_gpu_executor.cc:996] successful NUMA node read from SysFS had negative value (-1), but there must be at least one NUMA node, so returning NUMA node zero. See more at https://github.com/torvalds/linux/blob/v6.0/Documentation/ABI/testing/sysfs-bus-pci#L344-L355\n",
      "2023-04-09 00:00:31.520150: I tensorflow/compiler/xla/stream_executor/cuda/cuda_gpu_executor.cc:996] successful NUMA node read from SysFS had negative value (-1), but there must be at least one NUMA node, so returning NUMA node zero. See more at https://github.com/torvalds/linux/blob/v6.0/Documentation/ABI/testing/sysfs-bus-pci#L344-L355\n",
      "2023-04-09 00:00:31.566332: I tensorflow/compiler/xla/stream_executor/cuda/cuda_gpu_executor.cc:996] successful NUMA node read from SysFS had negative value (-1), but there must be at least one NUMA node, so returning NUMA node zero. See more at https://github.com/torvalds/linux/blob/v6.0/Documentation/ABI/testing/sysfs-bus-pci#L344-L355\n",
      "2023-04-09 00:00:31.566482: I tensorflow/compiler/xla/stream_executor/cuda/cuda_gpu_executor.cc:996] successful NUMA node read from SysFS had negative value (-1), but there must be at least one NUMA node, so returning NUMA node zero. See more at https://github.com/torvalds/linux/blob/v6.0/Documentation/ABI/testing/sysfs-bus-pci#L344-L355\n",
      "2023-04-09 00:00:31.566590: I tensorflow/compiler/xla/stream_executor/cuda/cuda_gpu_executor.cc:996] successful NUMA node read from SysFS had negative value (-1), but there must be at least one NUMA node, so returning NUMA node zero. See more at https://github.com/torvalds/linux/blob/v6.0/Documentation/ABI/testing/sysfs-bus-pci#L344-L355\n",
      "2023-04-09 00:00:31.566692: I tensorflow/compiler/xla/stream_executor/cuda/cuda_gpu_executor.cc:996] successful NUMA node read from SysFS had negative value (-1), but there must be at least one NUMA node, so returning NUMA node zero. See more at https://github.com/torvalds/linux/blob/v6.0/Documentation/ABI/testing/sysfs-bus-pci#L344-L355\n",
      "2023-04-09 00:00:31.689188: I tensorflow/compiler/xla/stream_executor/cuda/cuda_gpu_executor.cc:996] successful NUMA node read from SysFS had negative value (-1), but there must be at least one NUMA node, so returning NUMA node zero. See more at https://github.com/torvalds/linux/blob/v6.0/Documentation/ABI/testing/sysfs-bus-pci#L344-L355\n",
      "2023-04-09 00:00:31.689348: I tensorflow/compiler/xla/stream_executor/cuda/cuda_gpu_executor.cc:996] successful NUMA node read from SysFS had negative value (-1), but there must be at least one NUMA node, so returning NUMA node zero. See more at https://github.com/torvalds/linux/blob/v6.0/Documentation/ABI/testing/sysfs-bus-pci#L344-L355\n",
      "2023-04-09 00:00:31.689461: I tensorflow/compiler/xla/stream_executor/cuda/cuda_gpu_executor.cc:996] successful NUMA node read from SysFS had negative value (-1), but there must be at least one NUMA node, so returning NUMA node zero. See more at https://github.com/torvalds/linux/blob/v6.0/Documentation/ABI/testing/sysfs-bus-pci#L344-L355\n",
      "2023-04-09 00:00:31.689563: I tensorflow/compiler/xla/stream_executor/cuda/cuda_gpu_executor.cc:996] successful NUMA node read from SysFS had negative value (-1), but there must be at least one NUMA node, so returning NUMA node zero. See more at https://github.com/torvalds/linux/blob/v6.0/Documentation/ABI/testing/sysfs-bus-pci#L344-L355\n",
      "2023-04-09 00:00:31.689663: I tensorflow/compiler/xla/stream_executor/cuda/cuda_gpu_executor.cc:996] successful NUMA node read from SysFS had negative value (-1), but there must be at least one NUMA node, so returning NUMA node zero. See more at https://github.com/torvalds/linux/blob/v6.0/Documentation/ABI/testing/sysfs-bus-pci#L344-L355\n",
      "2023-04-09 00:00:31.689762: I tensorflow/compiler/xla/stream_executor/cuda/cuda_gpu_executor.cc:996] successful NUMA node read from SysFS had negative value (-1), but there must be at least one NUMA node, so returning NUMA node zero. See more at https://github.com/torvalds/linux/blob/v6.0/Documentation/ABI/testing/sysfs-bus-pci#L344-L355\n",
      "2023-04-09 00:00:32.634880: I tensorflow/compiler/xla/stream_executor/cuda/cuda_gpu_executor.cc:996] successful NUMA node read from SysFS had negative value (-1), but there must be at least one NUMA node, so returning NUMA node zero. See more at https://github.com/torvalds/linux/blob/v6.0/Documentation/ABI/testing/sysfs-bus-pci#L344-L355\n",
      "2023-04-09 00:00:32.635051: I tensorflow/compiler/xla/stream_executor/cuda/cuda_gpu_executor.cc:996] successful NUMA node read from SysFS had negative value (-1), but there must be at least one NUMA node, so returning NUMA node zero. See more at https://github.com/torvalds/linux/blob/v6.0/Documentation/ABI/testing/sysfs-bus-pci#L344-L355\n",
      "2023-04-09 00:00:32.635176: I tensorflow/compiler/xla/stream_executor/cuda/cuda_gpu_executor.cc:996] successful NUMA node read from SysFS had negative value (-1), but there must be at least one NUMA node, so returning NUMA node zero. See more at https://github.com/torvalds/linux/blob/v6.0/Documentation/ABI/testing/sysfs-bus-pci#L344-L355\n",
      "2023-04-09 00:00:32.635297: I tensorflow/compiler/xla/stream_executor/cuda/cuda_gpu_executor.cc:996] successful NUMA node read from SysFS had negative value (-1), but there must be at least one NUMA node, so returning NUMA node zero. See more at https://github.com/torvalds/linux/blob/v6.0/Documentation/ABI/testing/sysfs-bus-pci#L344-L355\n",
      "2023-04-09 00:00:32.635446: I tensorflow/compiler/xla/stream_executor/cuda/cuda_gpu_executor.cc:996] successful NUMA node read from SysFS had negative value (-1), but there must be at least one NUMA node, so returning NUMA node zero. See more at https://github.com/torvalds/linux/blob/v6.0/Documentation/ABI/testing/sysfs-bus-pci#L344-L355\n",
      "2023-04-09 00:00:32.635536: I tensorflow/core/common_runtime/gpu/gpu_device.cc:1635] Created device /job:localhost/replica:0/task:0/device:GPU:0 with 6010 MB memory:  -> device: 0, name: NVIDIA GeForce RTX 3070, pci bus id: 0000:04:00.0, compute capability: 8.6\n",
      "2023-04-09 00:00:32.635809: I tensorflow/compiler/xla/stream_executor/cuda/cuda_gpu_executor.cc:996] successful NUMA node read from SysFS had negative value (-1), but there must be at least one NUMA node, so returning NUMA node zero. See more at https://github.com/torvalds/linux/blob/v6.0/Documentation/ABI/testing/sysfs-bus-pci#L344-L355\n",
      "2023-04-09 00:00:32.635896: I tensorflow/core/common_runtime/gpu/gpu_device.cc:1635] Created device /job:localhost/replica:0/task:0/device:GPU:1 with 9585 MB memory:  -> device: 1, name: NVIDIA GeForce RTX 3060, pci bus id: 0000:01:00.0, compute capability: 8.6\n",
      "2023-04-09 00:00:32.932600: I tensorflow/core/common_runtime/executor.cc:1197] [/device:CPU:0] (DEBUG INFO) Executor start aborting (this does not indicate an error and you can ignore this message): INVALID_ARGUMENT: You must feed a value for placeholder tensor 'gradients/split_2_grad/concat/split_2/split_dim' with dtype int32\n",
      "\t [[{{node gradients/split_2_grad/concat/split_2/split_dim}}]]\n",
      "2023-04-09 00:00:32.933635: I tensorflow/core/common_runtime/executor.cc:1197] [/device:CPU:0] (DEBUG INFO) Executor start aborting (this does not indicate an error and you can ignore this message): INVALID_ARGUMENT: You must feed a value for placeholder tensor 'gradients/split_grad/concat/split/split_dim' with dtype int32\n",
      "\t [[{{node gradients/split_grad/concat/split/split_dim}}]]\n",
      "2023-04-09 00:00:32.934428: I tensorflow/core/common_runtime/executor.cc:1197] [/device:CPU:0] (DEBUG INFO) Executor start aborting (this does not indicate an error and you can ignore this message): INVALID_ARGUMENT: You must feed a value for placeholder tensor 'gradients/split_1_grad/concat/split_1/split_dim' with dtype int32\n",
      "\t [[{{node gradients/split_1_grad/concat/split_1/split_dim}}]]\n",
      "2023-04-09 00:00:33.147982: I tensorflow/core/common_runtime/executor.cc:1197] [/device:CPU:0] (DEBUG INFO) Executor start aborting (this does not indicate an error and you can ignore this message): INVALID_ARGUMENT: You must feed a value for placeholder tensor 'gradients/split_2_grad/concat/split_2/split_dim' with dtype int32\n",
      "\t [[{{node gradients/split_2_grad/concat/split_2/split_dim}}]]\n",
      "2023-04-09 00:00:33.149268: I tensorflow/core/common_runtime/executor.cc:1197] [/device:CPU:0] (DEBUG INFO) Executor start aborting (this does not indicate an error and you can ignore this message): INVALID_ARGUMENT: You must feed a value for placeholder tensor 'gradients/split_grad/concat/split/split_dim' with dtype int32\n",
      "\t [[{{node gradients/split_grad/concat/split/split_dim}}]]\n",
      "2023-04-09 00:00:33.150214: I tensorflow/core/common_runtime/executor.cc:1197] [/device:CPU:0] (DEBUG INFO) Executor start aborting (this does not indicate an error and you can ignore this message): INVALID_ARGUMENT: You must feed a value for placeholder tensor 'gradients/split_1_grad/concat/split_1/split_dim' with dtype int32\n",
      "\t [[{{node gradients/split_1_grad/concat/split_1/split_dim}}]]\n"
     ]
    }
   ],
   "source": [
    "import glob\n",
    "import tensorflow as tf\n",
    "model_files = glob.glob(\"*.h5\")\n",
    "print(model_files)\n",
    "loaded_models={}\n",
    "for model_file in model_files:\n",
    "    loaded_models[model_file.split(\".h5\")[0]] = tf.keras.models.load_model(model_file) "
   ]
  },
  {
   "cell_type": "code",
   "execution_count": 9,
   "metadata": {},
   "outputs": [],
   "source": [
    "\n",
    "data_pred = get_binance_data('BTCUSDT','1 feb 2023', '7 Apr 2023')\n",
    "df_pred = data_parser(data_pred)\n",
    "df_pred_norm = normalize(df_pred,imput_width=imput_width)\n",
    "prediction_data = df_pred_norm.tail(imput_width)\n",
    "data_for_prediction = data_for_prediction_parser(prediction_data , input_shape=input_shape)\n"
   ]
  },
  {
   "cell_type": "code",
   "execution_count": 12,
   "metadata": {},
   "outputs": [
    {
     "name": "stdout",
     "output_type": "stream",
     "text": [
      "1/1 [==============================] - 0s 50ms/step\n"
     ]
    },
    {
     "data": {
      "text/plain": [
       "open_time\n",
       "2023-04-05 07:00:00    28525.21\n",
       "2023-04-05 08:00:00    28543.80\n",
       "2023-04-05 09:00:00    28508.76\n",
       "2023-04-05 10:00:00    28510.00\n",
       "2023-04-05 11:00:00    28554.38\n",
       "2023-04-05 12:00:00    28568.95\n",
       "2023-04-05 13:00:00    28404.58\n",
       "2023-04-05 14:00:00    28105.20\n",
       "2023-04-05 15:00:00    28031.09\n",
       "2023-04-05 16:00:00    27947.99\n",
       "2023-04-05 17:00:00    28023.74\n",
       "2023-04-05 18:00:00    28030.20\n",
       "2023-04-05 19:00:00    28240.64\n",
       "2023-04-05 20:00:00    28150.61\n",
       "2023-04-05 21:00:00    28181.06\n",
       "2023-04-05 22:00:00    28175.28\n",
       "2023-04-05 23:00:00    28170.01\n",
       "2023-04-06 00:00:00    27999.15\n",
       "2023-04-06 01:00:00    28064.46\n",
       "2023-04-06 02:00:00    28039.73\n",
       "2023-04-06 03:00:00    28128.42\n",
       "2023-04-06 04:00:00    28068.91\n",
       "2023-04-06 05:00:00    28036.75\n",
       "2023-04-06 06:00:00    28063.91\n",
       "2023-04-06 07:00:00    27910.97\n",
       "2023-04-06 08:00:00    27953.62\n",
       "2023-04-06 09:00:00    27904.04\n",
       "2023-04-06 10:00:00    27850.00\n",
       "2023-04-06 11:00:00    27945.52\n",
       "2023-04-06 12:00:00    27903.73\n",
       "2023-04-06 13:00:00    27891.16\n",
       "2023-04-06 14:00:00    27952.78\n",
       "2023-04-06 15:00:00    28090.39\n",
       "2023-04-06 16:00:00    28065.14\n",
       "2023-04-06 17:00:00    28041.40\n",
       "2023-04-06 18:00:00    27963.35\n",
       "2023-04-06 19:00:00    28017.77\n",
       "2023-04-06 20:00:00    27975.85\n",
       "2023-04-06 21:00:00    27989.16\n",
       "2023-04-06 22:00:00    28007.86\n",
       "2023-04-06 23:00:00    28033.82\n",
       "2023-04-07 00:00:00    28097.99\n",
       "Name: close, dtype: float64"
      ]
     },
     "execution_count": 12,
     "metadata": {},
     "output_type": "execute_result"
    },
    {
     "data": {
      "image/png": "[encoded data removed]",
      "text/plain": [
       "<Figure size 640x480 with 1 Axes>"
      ]
     },
     "metadata": {},
     "output_type": "display_data"
    }
   ],
   "source": [
    "import numpy as np\n",
    "import matplotlib.pyplot as plt\n",
    "td = pd.Timedelta(hours=6)\n",
    "prediction = loaded_models[\"Dense\"].predict(data_for_prediction)[0]\n",
    "\n",
    "# create a new DatetimeIndex for the next 24 hours\n",
    "dti_new = df_pred[\"close\"].tail(label_width).index + td\n",
    "normalized_prediction = pd.DataFrame(prediction, columns=[\"close\"] , index=dti_new ) \n",
    "\n",
    "mean = df_pred[\"close\"].rolling(30).mean().tail(label_width )\n",
    "mean.index = dti_new\n",
    "std = df_pred[\"close\"].rolling(30).std().tail(label_width )\n",
    "std.index =dti_new\n",
    "predictions_no_ma  = normalized_prediction[\"close\"]  *std + mean\n",
    "#print( predictions_no_ma)\n",
    "\n",
    "# create a new DataFrame with the same columns as 'df' but with NaN values for the 'open_time' column and the new DatetimeIndex\n",
    "prediction__ = pd.DataFrame({'close': predictions_no_ma.values }, index=dti_new, columns=df_pred.columns)\n",
    "\n",
    "plt.plot(df_pred[\"close\"].tail(imput_width))\n",
    "# display the plot\n",
    "plt.plot( prediction__ )\n",
    "\n"
   ]
  },
  {
   "cell_type": "code",
   "execution_count": null,
   "metadata": {},
   "outputs": [],
   "source": [
    "def predict(model):\n",
    "    td = pd.Timedelta(hours=6)\n",
    "    prediction = loaded_models[model].predict(data_for_prediction)[0]\n",
    "\n",
    "    # create a new DatetimeIndex for the next 24 hours\n",
    "    dti_new = df_pred[\"close\"].tail(label_width).index + td\n",
    "    normalized_prediction = pd.DataFrame(prediction, columns=[\"close\"] , index=dti_new ) \n",
    "\n",
    "    mean = df_pred[\"close\"].shift(imput_width -label_width).rolling(30).mean().tail(label_width )\n",
    "    mean.index = dti_new\n",
    "    std = df_pred[\"close\"].shift(imput_width -label_width).rolling(30).std().tail(label_width )\n",
    "    std.index =dti_new\n",
    "    predictions_no_ma  = normalized_prediction[\"close\"]  *std + mean\n",
    "    #print( predictions_no_ma)\n",
    "\n",
    "    # create a new DataFrame with the same columns as 'df' but with NaN values for the 'open_time' column and the new DatetimeIndex\n",
    "    prediction__ = pd.DataFrame({'close': predictions_no_ma.values }, index=dti_new, columns=df_pred.columns)\n",
    "\n",
    "    data_pred = get_binance_data('BTCUSDT','1 feb 2023', '7 Apr 2023')\n",
    "    df_pred = data_parser(data_pred)\n",
    "    df_pred_norm = normalize(df_pred,imput_width=imput_width)\n",
    "    prediction_data = df_pred_norm.tail(imput_width)\n",
    "    data_for_prediction = data_for_prediction_parser(prediction_data , input_shape=input_shape)\n",
    "\n",
    "\n"
   ]
  },
  {
   "cell_type": "code",
   "execution_count": 69,
   "metadata": {},
   "outputs": [
    {
     "data": {
      "image/png": "[encoded data removed]",
      "text/plain": [
       "<Figure size 800x600 with 1 Axes>"
      ]
     },
     "metadata": {},
     "output_type": "display_data"
    }
   ],
   "source": [
    "\n",
    "\n",
    "plt.show()"
   ]
  },
  {
   "cell_type": "code",
   "execution_count": 103,
   "metadata": {},
   "outputs": [
    {
     "data": {
      "image/png": "[encoded data removed]",
      "text/plain": [
       "<Figure size 800x600 with 1 Axes>"
      ]
     },
     "metadata": {},
     "output_type": "display_data"
    }
   ],
   "source": [
    "\n"
   ]
  },
  {
   "cell_type": "code",
   "execution_count": 102,
   "metadata": {},
   "outputs": [
    {
     "ename": "ModuleNotFoundError",
     "evalue": "No module named 'sklearn'",
     "output_type": "error",
     "traceback": [
      "\u001b[0;31m---------------------------------------------------------------------------\u001b[0m",
      "\u001b[0;31mModuleNotFoundError\u001b[0m                       Traceback (most recent call last)",
      "Cell \u001b[0;32mIn[102], line 4\u001b[0m\n\u001b[1;32m      2\u001b[0m \u001b[39mimport\u001b[39;00m \u001b[39mnumpy\u001b[39;00m \u001b[39mas\u001b[39;00m \u001b[39mnp\u001b[39;00m\n\u001b[1;32m      3\u001b[0m \u001b[39mfrom\u001b[39;00m \u001b[39mstatsmodels\u001b[39;00m\u001b[39m.\u001b[39;00m\u001b[39mtsa\u001b[39;00m\u001b[39m.\u001b[39;00m\u001b[39marima\u001b[39;00m\u001b[39m.\u001b[39;00m\u001b[39mmodel\u001b[39;00m \u001b[39mimport\u001b[39;00m ARIMA\n\u001b[0;32m----> 4\u001b[0m \u001b[39mfrom\u001b[39;00m \u001b[39msklearn\u001b[39;00m\u001b[39m.\u001b[39;00m\u001b[39mmetrics\u001b[39;00m \u001b[39mimport\u001b[39;00m mean_squared_error\n",
      "\u001b[0;31mModuleNotFoundError\u001b[0m: No module named 'sklearn'"
     ]
    }
   ],
   "source": [
    "import pandas as pd\n",
    "import numpy as np\n",
    "from statsmodels.tsa.arima.model import ARIMA\n",
    "from sklearn.metrics import mean_squared_error\n"
   ]
  },
  {
   "cell_type": "code",
   "execution_count": 6,
   "metadata": {},
   "outputs": [
    {
     "data": {
      "text/html": [
       "<div>\n",
       "<style scoped>\n",
       "    .dataframe tbody tr th:only-of-type {\n",
       "        vertical-align: middle;\n",
       "    }\n",
       "\n",
       "    .dataframe tbody tr th {\n",
       "        vertical-align: top;\n",
       "    }\n",
       "\n",
       "    .dataframe thead th {\n",
       "        text-align: right;\n",
       "    }\n",
       "</style>\n",
       "<table border=\"1\" class=\"dataframe\">\n",
       "  <thead>\n",
       "    <tr style=\"text-align: right;\">\n",
       "      <th></th>\n",
       "      <th>open</th>\n",
       "      <th>high</th>\n",
       "      <th>low</th>\n",
       "      <th>close</th>\n",
       "      <th>volume</th>\n",
       "      <th>close_time</th>\n",
       "      <th>quote_asset_volume</th>\n",
       "      <th>num_trades</th>\n",
       "      <th>taker_base_vol</th>\n",
       "      <th>taker_quote_vol</th>\n",
       "    </tr>\n",
       "    <tr>\n",
       "      <th>open_time</th>\n",
       "      <th></th>\n",
       "      <th></th>\n",
       "      <th></th>\n",
       "      <th></th>\n",
       "      <th></th>\n",
       "      <th></th>\n",
       "      <th></th>\n",
       "      <th></th>\n",
       "      <th></th>\n",
       "      <th></th>\n",
       "    </tr>\n",
       "  </thead>\n",
       "  <tbody>\n",
       "    <tr>\n",
       "      <th>1970-01-01 00:25:27.811200</th>\n",
       "      <td>7485.01</td>\n",
       "      <td>7538.00</td>\n",
       "      <td>7477.50</td>\n",
       "      <td>7517.84</td>\n",
       "      <td>1381.859204</td>\n",
       "      <td>1.527815e+12</td>\n",
       "      <td>1.037592e+07</td>\n",
       "      <td>8465.0</td>\n",
       "      <td>859.825064</td>\n",
       "      <td>6.456825e+06</td>\n",
       "    </tr>\n",
       "    <tr>\n",
       "      <th>1970-01-01 00:25:27.814800</th>\n",
       "      <td>7515.03</td>\n",
       "      <td>7515.04</td>\n",
       "      <td>7478.43</td>\n",
       "      <td>7483.99</td>\n",
       "      <td>845.777769</td>\n",
       "      <td>1.527818e+12</td>\n",
       "      <td>6.341206e+06</td>\n",
       "      <td>14282.0</td>\n",
       "      <td>492.022255</td>\n",
       "      <td>3.688720e+06</td>\n",
       "    </tr>\n",
       "    <tr>\n",
       "      <th>1970-01-01 00:25:27.818400</th>\n",
       "      <td>7483.99</td>\n",
       "      <td>7522.54</td>\n",
       "      <td>7480.00</td>\n",
       "      <td>7487.82</td>\n",
       "      <td>954.614574</td>\n",
       "      <td>1.527822e+12</td>\n",
       "      <td>7.162305e+06</td>\n",
       "      <td>12365.0</td>\n",
       "      <td>587.432232</td>\n",
       "      <td>4.407405e+06</td>\n",
       "    </tr>\n",
       "    <tr>\n",
       "      <th>1970-01-01 00:25:27.822000</th>\n",
       "      <td>7487.82</td>\n",
       "      <td>7509.99</td>\n",
       "      <td>7454.35</td>\n",
       "      <td>7495.13</td>\n",
       "      <td>978.126602</td>\n",
       "      <td>1.527826e+12</td>\n",
       "      <td>7.322881e+06</td>\n",
       "      <td>11082.0</td>\n",
       "      <td>537.670795</td>\n",
       "      <td>4.025818e+06</td>\n",
       "    </tr>\n",
       "    <tr>\n",
       "      <th>1970-01-01 00:25:27.825600</th>\n",
       "      <td>7495.13</td>\n",
       "      <td>7497.07</td>\n",
       "      <td>7455.48</td>\n",
       "      <td>7491.22</td>\n",
       "      <td>962.828704</td>\n",
       "      <td>1.527829e+12</td>\n",
       "      <td>7.202737e+06</td>\n",
       "      <td>14969.0</td>\n",
       "      <td>538.148326</td>\n",
       "      <td>4.026065e+06</td>\n",
       "    </tr>\n",
       "  </tbody>\n",
       "</table>\n",
       "</div>"
      ],
      "text/plain": [
       "                               open     high      low    close       volume  \\\n",
       "open_time                                                                     \n",
       "1970-01-01 00:25:27.811200  7485.01  7538.00  7477.50  7517.84  1381.859204   \n",
       "1970-01-01 00:25:27.814800  7515.03  7515.04  7478.43  7483.99   845.777769   \n",
       "1970-01-01 00:25:27.818400  7483.99  7522.54  7480.00  7487.82   954.614574   \n",
       "1970-01-01 00:25:27.822000  7487.82  7509.99  7454.35  7495.13   978.126602   \n",
       "1970-01-01 00:25:27.825600  7495.13  7497.07  7455.48  7491.22   962.828704   \n",
       "\n",
       "                              close_time  quote_asset_volume  num_trades  \\\n",
       "open_time                                                                  \n",
       "1970-01-01 00:25:27.811200  1.527815e+12        1.037592e+07      8465.0   \n",
       "1970-01-01 00:25:27.814800  1.527818e+12        6.341206e+06     14282.0   \n",
       "1970-01-01 00:25:27.818400  1.527822e+12        7.162305e+06     12365.0   \n",
       "1970-01-01 00:25:27.822000  1.527826e+12        7.322881e+06     11082.0   \n",
       "1970-01-01 00:25:27.825600  1.527829e+12        7.202737e+06     14969.0   \n",
       "\n",
       "                            taker_base_vol  taker_quote_vol  \n",
       "open_time                                                    \n",
       "1970-01-01 00:25:27.811200      859.825064     6.456825e+06  \n",
       "1970-01-01 00:25:27.814800      492.022255     3.688720e+06  \n",
       "1970-01-01 00:25:27.818400      587.432232     4.407405e+06  \n",
       "1970-01-01 00:25:27.822000      537.670795     4.025818e+06  \n",
       "1970-01-01 00:25:27.825600      538.148326     4.026065e+06  "
      ]
     },
     "execution_count": 6,
     "metadata": {},
     "output_type": "execute_result"
    }
   ],
   "source": [
    "bitcoin_data = data\n",
    "df = pd.DataFrame(data , columns = ['open_time','open', 'high', 'low', 'close', 'volume','close_time', 'quote_asset_volume','num_trades','taker_base_vol','taker_quote_vol', 'ignore'] )\n",
    "df['open_time'] = pd.to_datetime(df['open_time'])\n",
    "df.set_index('open_time', inplace=True)\n",
    "df = df.astype(float)\n",
    "df.drop( [\"ignore\"] , axis=1  , inplace=True)\n",
    "df.head()"
   ]
  },
  {
   "cell_type": "code",
   "execution_count": 22,
   "metadata": {},
   "outputs": [
    {
     "name": "stderr",
     "output_type": "stream",
     "text": [
      "/home/alice/.local/lib/python3.8/site-packages/statsmodels/tsa/base/tsa_model.py:471: ValueWarning: A date index has been provided, but it has no associated frequency information and so will be ignored when e.g. forecasting.\n",
      "  self._init_dates(dates, freq)\n",
      "/home/alice/.local/lib/python3.8/site-packages/statsmodels/tsa/base/tsa_model.py:471: ValueWarning: A date index has been provided, but it has no associated frequency information and so will be ignored when e.g. forecasting.\n",
      "  self._init_dates(dates, freq)\n",
      "/home/alice/.local/lib/python3.8/site-packages/statsmodels/tsa/base/tsa_model.py:471: ValueWarning: A date index has been provided, but it has no associated frequency information and so will be ignored when e.g. forecasting.\n",
      "  self._init_dates(dates, freq)\n",
      "/home/alice/.local/lib/python3.8/site-packages/statsmodels/base/model.py:604: ConvergenceWarning: Maximum Likelihood optimization failed to converge. Check mle_retvals\n",
      "  warnings.warn(\"Maximum Likelihood optimization failed to \"\n"
     ]
    },
    {
     "name": "stdout",
     "output_type": "stream",
     "text": [
      "42101     4.833385\n",
      "42102     2.683808\n",
      "42103   -10.799863\n",
      "42104    14.325154\n",
      "42105    -2.154795\n",
      "42106    -2.599024\n",
      "42107     4.118660\n",
      "42108    -4.950964\n",
      "42109     6.081731\n",
      "42110    -3.675887\n",
      "42111     1.967215\n",
      "42112     2.023430\n",
      "42113    -3.618877\n",
      "42114     5.860290\n",
      "42115    -4.611171\n",
      "42116     3.765349\n",
      "42117    -0.095667\n",
      "42118    -1.805616\n",
      "42119     4.879351\n",
      "42120    -4.736051\n",
      "42121     4.940660\n",
      "42122    -1.958960\n",
      "42123     0.187635\n",
      "42124     3.342799\n",
      "Name: predicted_mean, dtype: float64\n"
     ]
    },
    {
     "name": "stderr",
     "output_type": "stream",
     "text": [
      "/home/alice/.local/lib/python3.8/site-packages/statsmodels/tsa/base/tsa_model.py:834: ValueWarning: No supported index is available. Prediction results will be given with an integer index beginning at `start`.\n",
      "  return get_prediction_index(\n"
     ]
    },
    {
     "data": {
      "text/plain": [
       "' for i in range(len(df) - window_size):\\n    # Split data into training and testing sets\\n    train_data = df[\"close\"].iloc[i:i+window_size]\\n    test_data = df[\"close\"].iloc[i+window_size:i+window_size+predicionlenght]\\n    print(train_data , test_data )\\n    # Fit ARIMA model to training data\\n    arima_model = ARIMA(train_data, order=(1,1,1))\\n    arima_fit = arima_model.fit()\\n\\n    # Predict Bitcoin prices for test data\\n    predictions = arima_fit.forecast(steps=predicionlenght)\\n    print(predictions)\\n\\n    # Calculate root mean squared error (RMSE)\\n    rmse = np.sqrt(mean_squared_error(test_data, predictions))\\n\\n    # Add RMSE value to list\\n    rmse_list.append(rmse)\\n\\n# Calculate average RMSE over all windows\\navg_rmse = np.mean(rmse_list)\\n\\nprint(\"Average RMSE:\", avg_rmse) '"
      ]
     },
     "execution_count": 22,
     "metadata": {},
     "output_type": "execute_result"
    }
   ],
   "source": [
    "from statsmodels.tsa.statespace.sarimax import SARIMAX\n",
    "\n",
    "window_size = 24*7\n",
    "predicionlenght = 24\n",
    "rmse_list = []\n",
    "arima_model = SARIMAX(df[\"close\"].diff(), order=(2,1,10))\n",
    "arima_fit = arima_model.fit()\n",
    "predictions = arima_fit.forecast(steps=predicionlenght)\n",
    "print(predictions)\n",
    "# Iterate through windows of test data\n",
    "\"\"\" for i in range(len(df) - window_size):\n",
    "    # Split data into training and testing sets\n",
    "    train_data = df[\"close\"].iloc[i:i+window_size]\n",
    "    test_data = df[\"close\"].iloc[i+window_size:i+window_size+predicionlenght]\n",
    "    print(train_data , test_data )\n",
    "    # Fit ARIMA model to training data\n",
    "    arima_model = ARIMA(train_data, order=(1,1,1))\n",
    "    arima_fit = arima_model.fit()\n",
    "\n",
    "    # Predict Bitcoin prices for test data\n",
    "    predictions = arima_fit.forecast(steps=predicionlenght)\n",
    "    print(predictions)\n",
    "\n",
    "    # Calculate root mean squared error (RMSE)\n",
    "    rmse = np.sqrt(mean_squared_error(test_data, predictions))\n",
    "\n",
    "    # Add RMSE value to list\n",
    "    rmse_list.append(rmse)\n",
    "\n",
    "# Calculate average RMSE over all windows\n",
    "avg_rmse = np.mean(rmse_list)\n",
    "\n",
    "print(\"Average RMSE:\", avg_rmse) \"\"\"\n"
   ]
  },
  {
   "cell_type": "code",
   "execution_count": 129,
   "metadata": {},
   "outputs": [
    {
     "data": {
      "image/png": "[encoded data removed]",
      "text/plain": [
       "<Figure size 432x288 with 1 Axes>"
      ]
     },
     "metadata": {
      "needs_background": "light"
     },
     "output_type": "display_data"
    }
   ],
   "source": [
    "import matplotlib.pyplot as plt\n",
    "\n",
    "# Plot the original time series\n",
    "plt.plot(df.index, df['close'], label='Original')\n",
    "\n",
    "# Plot the predicted values\n",
    "plt.plot(predictions.index, predictions.values, label='Predicted')\n",
    "\n",
    "# Set plot labels and title\n",
    "plt.xlabel('Date')\n",
    "plt.ylabel('Price')\n",
    "plt.title('ARIMA Predictions')\n",
    "\n",
    "# Show the legend and plot\n",
    "plt.legend()\n",
    "plt.show()"
   ]
  },
  {
   "cell_type": "code",
   "execution_count": 23,
   "metadata": {},
   "outputs": [
    {
     "data": {
      "text/html": [
       "<table class=\"simpletable\">\n",
       "<caption>SARIMAX Results</caption>\n",
       "<tr>\n",
       "  <th>Dep. Variable:</th>         <td>close</td>      <th>  No. Observations:  </th>    <td>42101</td>   \n",
       "</tr>\n",
       "<tr>\n",
       "  <th>Model:</th>            <td>ARIMA(2, 1, 10)</td> <th>  Log Likelihood     </th> <td>-285929.669</td>\n",
       "</tr>\n",
       "<tr>\n",
       "  <th>Date:</th>            <td>Fri, 24 Mar 2023</td> <th>  AIC                </th> <td>571885.338</td> \n",
       "</tr>\n",
       "<tr>\n",
       "  <th>Time:</th>                <td>21:34:44</td>     <th>  BIC                </th> <td>571997.759</td> \n",
       "</tr>\n",
       "<tr>\n",
       "  <th>Sample:</th>                  <td>0</td>        <th>  HQIC               </th> <td>571920.837</td> \n",
       "</tr>\n",
       "<tr>\n",
       "  <th></th>                     <td> - 42101</td>     <th>                     </th>      <td> </td>     \n",
       "</tr>\n",
       "<tr>\n",
       "  <th>Covariance Type:</th>        <td>opg</td>       <th>                     </th>      <td> </td>     \n",
       "</tr>\n",
       "</table>\n",
       "<table class=\"simpletable\">\n",
       "<tr>\n",
       "     <td></td>       <th>coef</th>     <th>std err</th>      <th>z</th>      <th>P>|z|</th>  <th>[0.025</th>    <th>0.975]</th>  \n",
       "</tr>\n",
       "<tr>\n",
       "  <th>ar.L1</th>  <td>   -1.6898</td> <td>    0.003</td> <td> -600.142</td> <td> 0.000</td> <td>   -1.695</td> <td>   -1.684</td>\n",
       "</tr>\n",
       "<tr>\n",
       "  <th>ar.L2</th>  <td>   -0.9830</td> <td>    0.003</td> <td> -347.409</td> <td> 0.000</td> <td>   -0.989</td> <td>   -0.977</td>\n",
       "</tr>\n",
       "<tr>\n",
       "  <th>ma.L1</th>  <td>    0.6902</td> <td>    0.003</td> <td>  199.799</td> <td> 0.000</td> <td>    0.683</td> <td>    0.697</td>\n",
       "</tr>\n",
       "<tr>\n",
       "  <th>ma.L2</th>  <td>   -0.7236</td> <td>    0.003</td> <td> -223.210</td> <td> 0.000</td> <td>   -0.730</td> <td>   -0.717</td>\n",
       "</tr>\n",
       "<tr>\n",
       "  <th>ma.L3</th>  <td>   -0.9890</td> <td>    0.004</td> <td> -232.201</td> <td> 0.000</td> <td>   -0.997</td> <td>   -0.981</td>\n",
       "</tr>\n",
       "<tr>\n",
       "  <th>ma.L4</th>  <td>   -0.0131</td> <td>    0.004</td> <td>   -3.351</td> <td> 0.001</td> <td>   -0.021</td> <td>   -0.005</td>\n",
       "</tr>\n",
       "<tr>\n",
       "  <th>ma.L5</th>  <td>   -0.0078</td> <td>    0.004</td> <td>   -2.044</td> <td> 0.041</td> <td>   -0.015</td> <td>   -0.000</td>\n",
       "</tr>\n",
       "<tr>\n",
       "  <th>ma.L6</th>  <td>    0.0294</td> <td>    0.004</td> <td>    7.017</td> <td> 0.000</td> <td>    0.021</td> <td>    0.038</td>\n",
       "</tr>\n",
       "<tr>\n",
       "  <th>ma.L7</th>  <td>    0.0343</td> <td>    0.004</td> <td>    8.751</td> <td> 0.000</td> <td>    0.027</td> <td>    0.042</td>\n",
       "</tr>\n",
       "<tr>\n",
       "  <th>ma.L8</th>  <td>   -0.0108</td> <td>    0.003</td> <td>   -3.373</td> <td> 0.001</td> <td>   -0.017</td> <td>   -0.005</td>\n",
       "</tr>\n",
       "<tr>\n",
       "  <th>ma.L9</th>  <td>   -0.0097</td> <td>    0.003</td> <td>   -3.510</td> <td> 0.000</td> <td>   -0.015</td> <td>   -0.004</td>\n",
       "</tr>\n",
       "<tr>\n",
       "  <th>ma.L10</th> <td>    0.0001</td> <td>    0.002</td> <td>    0.055</td> <td> 0.956</td> <td>   -0.004</td> <td>    0.005</td>\n",
       "</tr>\n",
       "<tr>\n",
       "  <th>sigma2</th> <td> 4.689e+04</td> <td>   90.050</td> <td>  520.686</td> <td> 0.000</td> <td> 4.67e+04</td> <td> 4.71e+04</td>\n",
       "</tr>\n",
       "</table>\n",
       "<table class=\"simpletable\">\n",
       "<tr>\n",
       "  <th>Ljung-Box (L1) (Q):</th>     <td>0.00</td>  <th>  Jarque-Bera (JB):  </th> <td>1448936.36</td>\n",
       "</tr>\n",
       "<tr>\n",
       "  <th>Prob(Q):</th>                <td>0.95</td>  <th>  Prob(JB):          </th>    <td>0.00</td>   \n",
       "</tr>\n",
       "<tr>\n",
       "  <th>Heteroskedasticity (H):</th> <td>17.72</td> <th>  Skew:              </th>    <td>-0.42</td>  \n",
       "</tr>\n",
       "<tr>\n",
       "  <th>Prob(H) (two-sided):</th>    <td>0.00</td>  <th>  Kurtosis:          </th>    <td>31.73</td>  \n",
       "</tr>\n",
       "</table><br/><br/>Warnings:<br/>[1] Covariance matrix calculated using the outer product of gradients (complex-step)."
      ],
      "text/plain": [
       "<class 'statsmodels.iolib.summary.Summary'>\n",
       "\"\"\"\n",
       "                               SARIMAX Results                                \n",
       "==============================================================================\n",
       "Dep. Variable:                  close   No. Observations:                42101\n",
       "Model:                ARIMA(2, 1, 10)   Log Likelihood             -285929.669\n",
       "Date:                Fri, 24 Mar 2023   AIC                         571885.338\n",
       "Time:                        21:34:44   BIC                         571997.759\n",
       "Sample:                             0   HQIC                        571920.837\n",
       "                              - 42101                                         \n",
       "Covariance Type:                  opg                                         \n",
       "==============================================================================\n",
       "                 coef    std err          z      P>|z|      [0.025      0.975]\n",
       "------------------------------------------------------------------------------\n",
       "ar.L1         -1.6898      0.003   -600.142      0.000      -1.695      -1.684\n",
       "ar.L2         -0.9830      0.003   -347.409      0.000      -0.989      -0.977\n",
       "ma.L1          0.6902      0.003    199.799      0.000       0.683       0.697\n",
       "ma.L2         -0.7236      0.003   -223.210      0.000      -0.730      -0.717\n",
       "ma.L3         -0.9890      0.004   -232.201      0.000      -0.997      -0.981\n",
       "ma.L4         -0.0131      0.004     -3.351      0.001      -0.021      -0.005\n",
       "ma.L5         -0.0078      0.004     -2.044      0.041      -0.015      -0.000\n",
       "ma.L6          0.0294      0.004      7.017      0.000       0.021       0.038\n",
       "ma.L7          0.0343      0.004      8.751      0.000       0.027       0.042\n",
       "ma.L8         -0.0108      0.003     -3.373      0.001      -0.017      -0.005\n",
       "ma.L9         -0.0097      0.003     -3.510      0.000      -0.015      -0.004\n",
       "ma.L10         0.0001      0.002      0.055      0.956      -0.004       0.005\n",
       "sigma2      4.689e+04     90.050    520.686      0.000    4.67e+04    4.71e+04\n",
       "===================================================================================\n",
       "Ljung-Box (L1) (Q):                   0.00   Jarque-Bera (JB):           1448936.36\n",
       "Prob(Q):                              0.95   Prob(JB):                         0.00\n",
       "Heteroskedasticity (H):              17.72   Skew:                            -0.42\n",
       "Prob(H) (two-sided):                  0.00   Kurtosis:                        31.73\n",
       "===================================================================================\n",
       "\n",
       "Warnings:\n",
       "[1] Covariance matrix calculated using the outer product of gradients (complex-step).\n",
       "\"\"\""
      ]
     },
     "execution_count": 23,
     "metadata": {},
     "output_type": "execute_result"
    }
   ],
   "source": [
    "arima_fit.summary()"
   ]
  },
  {
   "cell_type": "code",
   "execution_count": 18,
   "metadata": {},
   "outputs": [],
   "source": [
    "non_stationary_data = df[[\"close\"] ]"
   ]
  },
  {
   "cell_type": "code",
   "execution_count": 19,
   "metadata": {},
   "outputs": [
    {
     "name": "stderr",
     "output_type": "stream",
     "text": [
      "/tmp/ipykernel_8114/991760935.py:3: SettingWithCopyWarning: \n",
      "A value is trying to be set on a copy of a slice from a DataFrame.\n",
      "Try using .loc[row_indexer,col_indexer] = value instead\n",
      "\n",
      "See the caveats in the documentation: https://pandas.pydata.org/pandas-docs/stable/user_guide/indexing.html#returning-a-view-versus-a-copy\n",
      "  non_stationary_data['value_diff'] = non_stationary_data[\"close\"].diff()\n",
      "/tmp/ipykernel_8114/991760935.py:4: SettingWithCopyWarning: \n",
      "A value is trying to be set on a copy of a slice from a DataFrame.\n",
      "Try using .loc[row_indexer,col_indexer] = value instead\n",
      "\n",
      "See the caveats in the documentation: https://pandas.pydata.org/pandas-docs/stable/user_guide/indexing.html#returning-a-view-versus-a-copy\n",
      "  non_stationary_data['value_seasonal_diff'] = non_stationary_data['close'].diff(12)\n",
      "/tmp/ipykernel_8114/991760935.py:5: SettingWithCopyWarning: \n",
      "A value is trying to be set on a copy of a slice from a DataFrame.\n",
      "Try using .loc[row_indexer,col_indexer] = value instead\n",
      "\n",
      "See the caveats in the documentation: https://pandas.pydata.org/pandas-docs/stable/user_guide/indexing.html#returning-a-view-versus-a-copy\n",
      "  non_stationary_data['value_log'] = np.log(non_stationary_data['close'])\n",
      "/tmp/ipykernel_8114/991760935.py:6: SettingWithCopyWarning: \n",
      "A value is trying to be set on a copy of a slice from a DataFrame.\n",
      "Try using .loc[row_indexer,col_indexer] = value instead\n",
      "\n",
      "See the caveats in the documentation: https://pandas.pydata.org/pandas-docs/stable/user_guide/indexing.html#returning-a-view-versus-a-copy\n",
      "  non_stationary_data['value_boxcox'], fitted_lambda = boxcox(non_stationary_data['close'])\n"
     ]
    }
   ],
   "source": [
    "from scipy.stats import boxcox\n",
    "\n",
    "non_stationary_data['value_diff'] = non_stationary_data[\"close\"].diff()\n",
    "non_stationary_data['value_seasonal_diff'] = non_stationary_data['close'].diff(12)\n",
    "non_stationary_data['value_log'] = np.log(non_stationary_data['close'])\n",
    "non_stationary_data['value_boxcox'], fitted_lambda = boxcox(non_stationary_data['close'])\n",
    "\n"
   ]
  },
  {
   "cell_type": "code",
   "execution_count": null,
   "metadata": {},
   "outputs": [],
   "source": []
  },
  {
   "cell_type": "code",
   "execution_count": 20,
   "metadata": {},
   "outputs": [
    {
     "name": "stdout",
     "output_type": "stream",
     "text": [
      "ADF Statistic: -1.3092747294283693 for close\n",
      "p-value: 0.6249185036138085\n",
      "ADF Statistic: -29.42270581200733 for value_diff\n",
      "p-value: 0.0\n",
      "ADF Statistic: -24.9581636610649 for value_seasonal_diff\n",
      "p-value: 0.0\n",
      "ADF Statistic: -0.9720612724743178 for value_log\n",
      "p-value: 0.7633174550940749\n",
      "ADF Statistic: -0.9668790211131959 for value_boxcox\n",
      "p-value: 0.765151975502466\n"
     ]
    }
   ],
   "source": [
    "from statsmodels.tsa.stattools import adfuller\n",
    "for column in non_stationary_data.columns:\n",
    "    adf_result = adfuller(non_stationary_data[column].dropna())\n",
    "    print(f'ADF Statistic: {adf_result[0]} for {column}')\n",
    "    print(f'p-value: {adf_result[1]}')\n",
    "\n"
   ]
  },
  {
   "cell_type": "code",
   "execution_count": 21,
   "metadata": {},
   "outputs": [
    {
     "data": {
      "text/plain": [
       "<Figure size 864x432 with 0 Axes>"
      ]
     },
     "metadata": {},
     "output_type": "display_data"
    },
    {
     "data": {
      "image/png": "[encoded data removed]",
      "text/plain": [
       "<Figure size 432x288 with 1 Axes>"
      ]
     },
     "metadata": {
      "needs_background": "light"
     },
     "output_type": "display_data"
    },
    {
     "name": "stderr",
     "output_type": "stream",
     "text": [
      "/home/alice/.local/lib/python3.8/site-packages/statsmodels/graphics/tsaplots.py:348: FutureWarning: The default method 'yw' can produce PACF values outside of the [-1,1] interval. After 0.13, the default will change tounadjusted Yule-Walker ('ywm'). You can use this method now by setting method='ywm'.\n",
      "  warnings.warn(\n"
     ]
    },
    {
     "data": {
      "text/plain": [
       "<Figure size 864x432 with 0 Axes>"
      ]
     },
     "metadata": {},
     "output_type": "display_data"
    },
    {
     "data": {
      "image/png": "[encoded data removed]",
      "text/plain": [
       "<Figure size 432x288 with 1 Axes>"
      ]
     },
     "metadata": {
      "needs_background": "light"
     },
     "output_type": "display_data"
    }
   ],
   "source": [
    "import numpy as np\n",
    "import pandas as pd\n",
    "import matplotlib.pyplot as plt\n",
    "from statsmodels.graphics.tsaplots import plot_acf, plot_pacf\n",
    "\n",
    "stationary_series = non_stationary_data['value_seasonal_diff'].dropna()\n",
    "# ACF plot\n",
    "plt.figure(figsize=(12, 6))\n",
    "plot_acf(stationary_series, lags=50, alpha=0.05)\n",
    "plt.title(\"Autocorrelation Function (ACF)\")\n",
    "plt.show()\n",
    "\n",
    "# PACF plot\n",
    "plt.figure(figsize=(12, 6))\n",
    "plot_pacf(stationary_series, lags=50, alpha=0.05)\n",
    "plt.title(\"Partial Autocorrelation Function (PACF)\")\n",
    "plt.show() \n"
   ]
  },
  {
   "cell_type": "code",
   "execution_count": null,
   "metadata": {},
   "outputs": [],
   "source": []
  }
 ],
 "metadata": {
  "kernelspec": {
   "display_name": "Python 3 (ipykernel)",
   "language": "python",
   "name": "python3"
  },
  "language_info": {
   "codemirror_mode": {
    "name": "ipython",
    "version": 3
   },
   "file_extension": ".py",
   "mimetype": "text/x-python",
   "name": "python",
   "nbconvert_exporter": "python",
   "pygments_lexer": "ipython3",
   "version": "3.10.6"
  },
  "orig_nbformat": 4,
  "vscode": {
   "interpreter": {
    "hash": "31f2aee4e71d21fbe5cf8b01ff0e069b9275f58929596ceb00d14d90e3e16cd6"
   }
  }
 },
 "nbformat": 4,
 "nbformat_minor": 2
}
