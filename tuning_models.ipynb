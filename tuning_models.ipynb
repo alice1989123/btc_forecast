{
 "cells": [
  {
   "cell_type": "code",
   "execution_count": 1,
   "metadata": {},
   "outputs": [
    {
     "name": "stderr",
     "output_type": "stream",
     "text": [
      "2023-04-29 19:34:08.938234: I tensorflow/core/platform/cpu_feature_guard.cc:182] This TensorFlow binary is optimized to use available CPU instructions in performance-critical operations.\n",
      "To enable the following instructions: AVX2 FMA, in other operations, rebuild TensorFlow with the appropriate compiler flags.\n",
      "2023-04-29 19:34:09.844985: W tensorflow/compiler/tf2tensorrt/utils/py_utils.cc:38] TF-TRT Warning: Could not find TensorRT\n",
      "2023-04-29 19:34:11.184616: I tensorflow/compiler/xla/stream_executor/cuda/cuda_gpu_executor.cc:996] successful NUMA node read from SysFS had negative value (-1), but there must be at least one NUMA node, so returning NUMA node zero. See more at https://github.com/torvalds/linux/blob/v6.0/Documentation/ABI/testing/sysfs-bus-pci#L344-L355\n",
      "2023-04-29 19:34:11.185027: I tensorflow/compiler/xla/stream_executor/cuda/cuda_gpu_executor.cc:996] successful NUMA node read from SysFS had negative value (-1), but there must be at least one NUMA node, so returning NUMA node zero. See more at https://github.com/torvalds/linux/blob/v6.0/Documentation/ABI/testing/sysfs-bus-pci#L344-L355\n",
      "2023-04-29 19:34:11.254488: I tensorflow/compiler/xla/stream_executor/cuda/cuda_gpu_executor.cc:996] successful NUMA node read from SysFS had negative value (-1), but there must be at least one NUMA node, so returning NUMA node zero. See more at https://github.com/torvalds/linux/blob/v6.0/Documentation/ABI/testing/sysfs-bus-pci#L344-L355\n",
      "2023-04-29 19:34:11.254646: I tensorflow/compiler/xla/stream_executor/cuda/cuda_gpu_executor.cc:996] successful NUMA node read from SysFS had negative value (-1), but there must be at least one NUMA node, so returning NUMA node zero. See more at https://github.com/torvalds/linux/blob/v6.0/Documentation/ABI/testing/sysfs-bus-pci#L344-L355\n",
      "2023-04-29 19:34:11.254754: I tensorflow/compiler/xla/stream_executor/cuda/cuda_gpu_executor.cc:996] successful NUMA node read from SysFS had negative value (-1), but there must be at least one NUMA node, so returning NUMA node zero. See more at https://github.com/torvalds/linux/blob/v6.0/Documentation/ABI/testing/sysfs-bus-pci#L344-L355\n",
      "2023-04-29 19:34:11.254855: I tensorflow/compiler/xla/stream_executor/cuda/cuda_gpu_executor.cc:996] successful NUMA node read from SysFS had negative value (-1), but there must be at least one NUMA node, so returning NUMA node zero. See more at https://github.com/torvalds/linux/blob/v6.0/Documentation/ABI/testing/sysfs-bus-pci#L344-L355\n",
      "2023-04-29 19:34:12.200273: I tensorflow/compiler/xla/stream_executor/cuda/cuda_gpu_executor.cc:996] successful NUMA node read from SysFS had negative value (-1), but there must be at least one NUMA node, so returning NUMA node zero. See more at https://github.com/torvalds/linux/blob/v6.0/Documentation/ABI/testing/sysfs-bus-pci#L344-L355\n",
      "2023-04-29 19:34:12.200548: I tensorflow/compiler/xla/stream_executor/cuda/cuda_gpu_executor.cc:996] successful NUMA node read from SysFS had negative value (-1), but there must be at least one NUMA node, so returning NUMA node zero. See more at https://github.com/torvalds/linux/blob/v6.0/Documentation/ABI/testing/sysfs-bus-pci#L344-L355\n",
      "2023-04-29 19:34:12.200729: I tensorflow/compiler/xla/stream_executor/cuda/cuda_gpu_executor.cc:996] successful NUMA node read from SysFS had negative value (-1), but there must be at least one NUMA node, so returning NUMA node zero. See more at https://github.com/torvalds/linux/blob/v6.0/Documentation/ABI/testing/sysfs-bus-pci#L344-L355\n",
      "2023-04-29 19:34:12.200892: I tensorflow/compiler/xla/stream_executor/cuda/cuda_gpu_executor.cc:996] successful NUMA node read from SysFS had negative value (-1), but there must be at least one NUMA node, so returning NUMA node zero. See more at https://github.com/torvalds/linux/blob/v6.0/Documentation/ABI/testing/sysfs-bus-pci#L344-L355\n",
      "2023-04-29 19:34:12.201003: I tensorflow/compiler/xla/stream_executor/cuda/cuda_gpu_executor.cc:996] successful NUMA node read from SysFS had negative value (-1), but there must be at least one NUMA node, so returning NUMA node zero. See more at https://github.com/torvalds/linux/blob/v6.0/Documentation/ABI/testing/sysfs-bus-pci#L344-L355\n",
      "2023-04-29 19:34:12.201108: I tensorflow/core/common_runtime/gpu/gpu_device.cc:1635] Created device /job:localhost/replica:0/task:0/device:GPU:0 with 6372 MB memory:  -> device: 0, name: NVIDIA GeForce RTX 3070, pci bus id: 0000:04:00.0, compute capability: 8.6\n",
      "2023-04-29 19:34:12.201388: I tensorflow/compiler/xla/stream_executor/cuda/cuda_gpu_executor.cc:996] successful NUMA node read from SysFS had negative value (-1), but there must be at least one NUMA node, so returning NUMA node zero. See more at https://github.com/torvalds/linux/blob/v6.0/Documentation/ABI/testing/sysfs-bus-pci#L344-L355\n",
      "2023-04-29 19:34:12.201485: I tensorflow/core/common_runtime/gpu/gpu_device.cc:1635] Created device /job:localhost/replica:0/task:0/device:GPU:1 with 9635 MB memory:  -> device: 1, name: NVIDIA GeForce RTX 3060, pci bus id: 0000:01:00.0, compute capability: 8.6\n"
     ]
    },
    {
     "name": "stdout",
     "output_type": "stream",
     "text": [
      "WARNING:tensorflow:From /tmp/ipykernel_212060/1779231450.py:8: The name tf.keras.backend.set_session is deprecated. Please use tf.compat.v1.keras.backend.set_session instead.\n",
      "\n"
     ]
    }
   ],
   "source": [
    "import tensorflow as tf\n",
    "config = tf.compat.v1.ConfigProto(gpu_options = \n",
    "                         tf.compat.v1.GPUOptions(per_process_gpu_memory_fraction=0.8)\n",
    "# device_count = {'GPU': 1}\n",
    ")\n",
    "config.gpu_options.allow_growth = True\n",
    "session = tf.compat.v1.Session(config=config)\n",
    "tf.compat.v1.keras.backend.set_session(session)"
   ]
  },
  {
   "cell_type": "code",
   "execution_count": 11,
   "metadata": {},
   "outputs": [],
   "source": []
  },
  {
   "cell_type": "code",
   "execution_count": 2,
   "metadata": {},
   "outputs": [
    {
     "name": "stderr",
     "output_type": "stream",
     "text": [
      "/tmp/ipykernel_148860/1559655559.py:1: DeprecationWarning: `import kerastuner` is deprecated, please use `import keras_tuner`.\n",
      "  from kerastuner import HyperModel\n",
      "2023-04-29 08:45:00.060606: I tensorflow/compiler/xla/stream_executor/cuda/cuda_gpu_executor.cc:996] successful NUMA node read from SysFS had negative value (-1), but there must be at least one NUMA node, so returning NUMA node zero. See more at https://github.com/torvalds/linux/blob/v6.0/Documentation/ABI/testing/sysfs-bus-pci#L344-L355\n",
      "2023-04-29 08:45:00.060777: I tensorflow/compiler/xla/stream_executor/cuda/cuda_gpu_executor.cc:996] successful NUMA node read from SysFS had negative value (-1), but there must be at least one NUMA node, so returning NUMA node zero. See more at https://github.com/torvalds/linux/blob/v6.0/Documentation/ABI/testing/sysfs-bus-pci#L344-L355\n",
      "2023-04-29 08:45:00.060893: I tensorflow/compiler/xla/stream_executor/cuda/cuda_gpu_executor.cc:996] successful NUMA node read from SysFS had negative value (-1), but there must be at least one NUMA node, so returning NUMA node zero. See more at https://github.com/torvalds/linux/blob/v6.0/Documentation/ABI/testing/sysfs-bus-pci#L344-L355\n",
      "2023-04-29 08:45:00.060995: I tensorflow/compiler/xla/stream_executor/cuda/cuda_gpu_executor.cc:996] successful NUMA node read from SysFS had negative value (-1), but there must be at least one NUMA node, so returning NUMA node zero. See more at https://github.com/torvalds/linux/blob/v6.0/Documentation/ABI/testing/sysfs-bus-pci#L344-L355\n",
      "2023-04-29 08:45:00.061094: I tensorflow/compiler/xla/stream_executor/cuda/cuda_gpu_executor.cc:996] successful NUMA node read from SysFS had negative value (-1), but there must be at least one NUMA node, so returning NUMA node zero. See more at https://github.com/torvalds/linux/blob/v6.0/Documentation/ABI/testing/sysfs-bus-pci#L344-L355\n",
      "2023-04-29 08:45:00.061193: I tensorflow/compiler/xla/stream_executor/cuda/cuda_gpu_executor.cc:996] successful NUMA node read from SysFS had negative value (-1), but there must be at least one NUMA node, so returning NUMA node zero. See more at https://github.com/torvalds/linux/blob/v6.0/Documentation/ABI/testing/sysfs-bus-pci#L344-L355\n",
      "2023-04-29 08:45:00.061341: I tensorflow/compiler/xla/stream_executor/cuda/cuda_gpu_executor.cc:996] successful NUMA node read from SysFS had negative value (-1), but there must be at least one NUMA node, so returning NUMA node zero. See more at https://github.com/torvalds/linux/blob/v6.0/Documentation/ABI/testing/sysfs-bus-pci#L344-L355\n",
      "2023-04-29 08:45:00.061443: I tensorflow/compiler/xla/stream_executor/cuda/cuda_gpu_executor.cc:996] successful NUMA node read from SysFS had negative value (-1), but there must be at least one NUMA node, so returning NUMA node zero. See more at https://github.com/torvalds/linux/blob/v6.0/Documentation/ABI/testing/sysfs-bus-pci#L344-L355\n",
      "2023-04-29 08:45:00.061566: I tensorflow/compiler/xla/stream_executor/cuda/cuda_gpu_executor.cc:996] successful NUMA node read from SysFS had negative value (-1), but there must be at least one NUMA node, so returning NUMA node zero. See more at https://github.com/torvalds/linux/blob/v6.0/Documentation/ABI/testing/sysfs-bus-pci#L344-L355\n",
      "2023-04-29 08:45:00.061664: I tensorflow/core/common_runtime/gpu/gpu_device.cc:1635] Created device /job:localhost/replica:0/task:0/device:GPU:0 with 6372 MB memory:  -> device: 0, name: NVIDIA GeForce RTX 3070, pci bus id: 0000:04:00.0, compute capability: 8.6\n",
      "2023-04-29 08:45:00.061707: I tensorflow/compiler/xla/stream_executor/cuda/cuda_gpu_executor.cc:996] successful NUMA node read from SysFS had negative value (-1), but there must be at least one NUMA node, so returning NUMA node zero. See more at https://github.com/torvalds/linux/blob/v6.0/Documentation/ABI/testing/sysfs-bus-pci#L344-L355\n",
      "2023-04-29 08:45:00.061782: I tensorflow/core/common_runtime/gpu/gpu_device.cc:1635] Created device /job:localhost/replica:0/task:0/device:GPU:1 with 9635 MB memory:  -> device: 1, name: NVIDIA GeForce RTX 3060, pci bus id: 0000:01:00.0, compute capability: 8.6\n"
     ]
    }
   ],
   "source": [
    "from kerastuner import HyperModel\n",
    "from models import *\n",
    "class CryptoModel(HyperModel):\n",
    "    def __init__(self, input_shape, label_width):\n",
    "        self.input_shape = input_shape\n",
    "        self.label_width = label_width\n",
    "\n",
    "    def build(self, hp):\n",
    "        model_type = hp.Choice('model_type', ['Dense''LSTM', 'LSTM2', 'Conv1D'])\n",
    "        if model_type == 'Dense':\n",
    "            model = create_Dense(hp, self.input_shape, self.label_width)\n",
    "        elif model_type == 'LSTM':\n",
    "            model = create_LSTM(hp, self.input_shape, self.label_width)\n",
    "        elif model_type == 'LSTM2':\n",
    "            model = create_LSTM2(hp, self.input_shape, self.label_width)\n",
    "        elif model_type == 'Conv1D':\n",
    "            model = create_Conv1D(hp, self.input_shape, self.label_width) \n",
    "        model.compile(optimizer=tf.keras.optimizers.Adam(hp.Float('learning_rate', 1e-4, 1e-2, sampling='log')),\n",
    "                      loss='mse',\n",
    "                      metrics=['mae'])\n",
    "        return model"
   ]
  },
  {
   "cell_type": "code",
   "execution_count": 36,
   "metadata": {},
   "outputs": [],
   "source": [
    "\n"
   ]
  },
  {
   "cell_type": "code",
   "execution_count": 5,
   "metadata": {},
   "outputs": [],
   "source": [
    "\n",
    "from kerastuner.tuners import RandomSearch\n",
    "\n",
    "import pandas as pd\n",
    "import pandas as pd\n",
    "import datetime\n",
    "from  window_generator  import WindowGenerator\n",
    "import pandas as pd\n",
    "import tensorflow as tf\n",
    "from binance_data import get_binance_data\n",
    "from data_processing import train_test   , compile_and_fit , normalize , data_parser  , data_for_prediction_parser\n",
    "import pandas as pd\n",
    "import models\n",
    "import pickle\n",
    "from datetime import timedelta as td\n",
    "import window_generator\n",
    "import config.config as config\n",
    "\n",
    "from tensorflow.keras.layers import Dense, Dropout, LSTM , GRU , Flatten , BatchNormalization , Conv1D , MaxPooling1D\n",
    "from tensorflow.keras.models import Sequential\n",
    "\n"
   ]
  },
  {
   "cell_type": "code",
   "execution_count": 4,
   "metadata": {},
   "outputs": [],
   "source": [
    "\n",
    "\n",
    "input_shape = config.input_shape\n",
    "label_width = config.label_width\n",
    "\n",
    "start_time = \"1 Jun 2010\"\n",
    "# Get current date and time\n",
    "now = datetime.datetime.now()-td(hours=24)\n",
    "# Format date and time as a string\n",
    "end_time = now.strftime(\"%Y-%m-%d %H:%M:%S\")\n",
    "\n",
    "data = get_binance_data ('BTCUSDT',  start_time, end_time )\n",
    "training_df = data_parser(data)\n",
    "training_df_norm = normalize(training_df, label_width=config.label_width, window=30)\n",
    "train_df, val_df, test_df = train_test(training_df_norm[config.variables_used])\n",
    "wide_window = WindowGenerator(\n",
    "input_width=config.input_width, label_width=config.label_width, shift=0,\n",
    "label_columns=config.variables_used, train_df=train_df, val_df=val_df, test_df=test_df)\n",
    "\n",
    "#hypermodel = CryptoModel(input_shape, label_width)\n",
    "\n",
    "wide_window = WindowGenerator(\n",
    "                input_width=config.input_width, label_width=config.label_width, shift=0,\n",
    "                label_columns=config.variables_used, train_df=train_df, val_df=val_df, test_df=test_df)\n"
   ]
  },
  {
   "cell_type": "code",
   "execution_count": 11,
   "metadata": {},
   "outputs": [
    {
     "name": "stdout",
     "output_type": "stream",
     "text": [
      "Trial 30 Complete [00h 01m 36s]\n",
      "val_loss: 0.01751757226884365\n",
      "\n",
      "Best val_loss So Far: 0.0006894618854857981\n",
      "Total elapsed time: 01h 02m 26s\n",
      "INFO:tensorflow:Oracle triggered exit\n"
     ]
    }
   ],
   "source": [
    "\n",
    "def hypermodel(hp):\n",
    "    model = Sequential()\n",
    "\n",
    "    # LSTM Layer(s)\n",
    "    \n",
    "    #lstm_layers = hp.Int(\"lstm_layers\", min_value=1, max_value=3, step=1)\n",
    "    units = hp.Int(f\"units\", min_value=32, max_value=512, step=32)\n",
    "    units2 = hp.Int(f\"units2\", min_value=32, max_value=100, step=32)\n",
    "    dropout_rate = hp.Float(f\"dropout\", min_value=0.0, max_value=0.5, step=0.1)\n",
    "    #dropout_rate2 = hp.Float(f\"dropout2\", min_value=0.0, max_value=0.4, step=0.1)\n",
    "    model.add( Conv1D( filters=64, kernel_size=3,    input_shape=input_shape))\n",
    "    model.add(Dropout(dropout_rate)),\n",
    "    #model.add(MaxPooling1D(pool_size=2)),\n",
    "    model.add(Dense(units=units2)),\n",
    "    model.add(Dense(units=32, activation='relu')) \n",
    "    #model.add(BatchNormalization())\n",
    "    # Output Layer\n",
    "    model.add(Flatten()) \n",
    "    model.add(Dense(label_width))\n",
    "    \n",
    "    # Compile model\n",
    "    learning_rate = hp.Choice(\"learning_rate\", values=[1e-3, 1e-4, 1e-5])\n",
    "    model.compile(optimizer=tf.keras.optimizers.Adam() , metrics=[tf.keras.metrics.MeanAbsoluteError()],\n",
    "                  loss=\"mse\")\n",
    "    return model\n",
    "\n",
    "\n",
    "tuner = RandomSearch(\n",
    "    hypermodel,\n",
    "    objective='val_loss',\n",
    "    max_trials=30,\n",
    "    executions_per_trial=2,\n",
    "    directory='tuner_results_4',\n",
    "    project_name='crypto_hyperopt'\n",
    ")\n",
    "\n",
    "tuner.search_space_summary()\n",
    "tuner.search(wide_window.train,validation_data=wide_window.val, epochs=100,  callbacks=[tf.keras.callbacks.EarlyStopping('val_loss', patience=5)])\n",
    "\n",
    "best_model = tuner.get_best_models(1)[0]"
   ]
  },
  {
   "cell_type": "code",
   "execution_count": 15,
   "metadata": {},
   "outputs": [
    {
     "name": "stdout",
     "output_type": "stream",
     "text": [
      "Model: \"sequential\"\n",
      "_________________________________________________________________\n",
      " Layer (type)                Output Shape              Param #   \n",
      "=================================================================\n",
      " conv1d (Conv1D)             (None, 198, 64)           256       \n",
      "                                                                 \n",
      " dropout (Dropout)           (None, 198, 64)           0         \n",
      "                                                                 \n",
      " dense (Dense)               (None, 198, 64)           4160      \n",
      "                                                                 \n",
      " dense_1 (Dense)             (None, 198, 32)           2080      \n",
      "                                                                 \n",
      " flatten (Flatten)           (None, 6336)              0         \n",
      "                                                                 \n",
      " dense_2 (Dense)             (None, 12)                76044     \n",
      "                                                                 \n",
      "=================================================================\n",
      "Total params: 82,540\n",
      "Trainable params: 82,540\n",
      "Non-trainable params: 0\n",
      "_________________________________________________________________\n",
      "WARNING:tensorflow:Detecting that an object or model or tf.train.Checkpoint is being deleted with unrestored values. See the following logs for the specific values in question. To silence these warnings, use `status.expect_partial()`. See https://www.tensorflow.org/api_docs/python/tf/train/Checkpoint#restorefor details about the status object returned by the restore function.\n",
      "WARNING:tensorflow:Value in checkpoint could not be found in the restored object: (root).optimizer._variables.1\n",
      "WARNING:tensorflow:Value in checkpoint could not be found in the restored object: (root).optimizer._variables.2\n",
      "WARNING:tensorflow:Value in checkpoint could not be found in the restored object: (root).optimizer._variables.3\n",
      "WARNING:tensorflow:Value in checkpoint could not be found in the restored object: (root).optimizer._variables.4\n",
      "WARNING:tensorflow:Value in checkpoint could not be found in the restored object: (root).optimizer._variables.5\n",
      "WARNING:tensorflow:Value in checkpoint could not be found in the restored object: (root).optimizer._variables.6\n",
      "WARNING:tensorflow:Value in checkpoint could not be found in the restored object: (root).optimizer._variables.7\n",
      "WARNING:tensorflow:Value in checkpoint could not be found in the restored object: (root).optimizer._variables.8\n",
      "WARNING:tensorflow:Value in checkpoint could not be found in the restored object: (root).optimizer._variables.9\n",
      "WARNING:tensorflow:Value in checkpoint could not be found in the restored object: (root).optimizer._variables.10\n",
      "WARNING:tensorflow:Value in checkpoint could not be found in the restored object: (root).optimizer._variables.11\n",
      "WARNING:tensorflow:Value in checkpoint could not be found in the restored object: (root).optimizer._variables.12\n",
      "WARNING:tensorflow:Value in checkpoint could not be found in the restored object: (root).optimizer._variables.13\n",
      "WARNING:tensorflow:Value in checkpoint could not be found in the restored object: (root).optimizer._variables.14\n",
      "WARNING:tensorflow:Value in checkpoint could not be found in the restored object: (root).optimizer._variables.15\n",
      "WARNING:tensorflow:Value in checkpoint could not be found in the restored object: (root).optimizer._variables.16\n"
     ]
    }
   ],
   "source": [
    "tuner.get_best_models(1)[0]"
   ]
  },
  {
   "cell_type": "code",
   "execution_count": 13,
   "metadata": {},
   "outputs": [
    {
     "data": {
      "text/plain": [
       "{'space': [{'class_name': 'Int',\n",
       "   'config': {'name': 'units',\n",
       "    'default': None,\n",
       "    'conditions': [],\n",
       "    'min_value': 32,\n",
       "    'max_value': 512,\n",
       "    'step': 32,\n",
       "    'sampling': 'linear'}},\n",
       "  {'class_name': 'Int',\n",
       "   'config': {'name': 'units2',\n",
       "    'default': None,\n",
       "    'conditions': [],\n",
       "    'min_value': 32,\n",
       "    'max_value': 100,\n",
       "    'step': 32,\n",
       "    'sampling': 'linear'}},\n",
       "  {'class_name': 'Float',\n",
       "   'config': {'name': 'dropout',\n",
       "    'default': 0.0,\n",
       "    'conditions': [],\n",
       "    'min_value': 0.0,\n",
       "    'max_value': 0.5,\n",
       "    'step': 0.1,\n",
       "    'sampling': 'linear'}},\n",
       "  {'class_name': 'Choice',\n",
       "   'config': {'name': 'learning_rate',\n",
       "    'default': 0.001,\n",
       "    'conditions': [],\n",
       "    'values': [0.001, 0.0001, 1e-05],\n",
       "    'ordered': True}}],\n",
       " 'values': {'units': 352,\n",
       "  'units2': 64,\n",
       "  'dropout': 0.0,\n",
       "  'learning_rate': 0.001}}"
      ]
     },
     "execution_count": 13,
     "metadata": {},
     "output_type": "execute_result"
    }
   ],
   "source": [
    "best_hps=tuner.get_best_hyperparameters()[0]\n",
    "best_hps.get_config()"
   ]
  }
 ],
 "metadata": {
  "kernelspec": {
   "display_name": ".venv",
   "language": "python",
   "name": "python3"
  },
  "language_info": {
   "codemirror_mode": {
    "name": "ipython",
    "version": 3
   },
   "file_extension": ".py",
   "mimetype": "text/x-python",
   "name": "python",
   "nbconvert_exporter": "python",
   "pygments_lexer": "ipython3",
   "version": "3.10.6"
  },
  "orig_nbformat": 4
 },
 "nbformat": 4,
 "nbformat_minor": 2
}
